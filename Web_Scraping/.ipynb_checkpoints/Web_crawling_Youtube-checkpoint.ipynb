{
 "cells": [
  {
   "cell_type": "code",
   "execution_count": 1,
   "id": "a274b0c5",
   "metadata": {},
   "outputs": [],
   "source": [
    "from selenium import webdriver\n",
    "from bs4 import BeautifulSoup\n",
    "import time\n",
    "import pandas as pd"
   ]
  },
  {
   "cell_type": "code",
   "execution_count": 2,
   "id": "15bc6939",
   "metadata": {},
   "outputs": [],
   "source": [
    "browser = webdriver.Chrome('C:/Users/USER/python_Data_analytics/Web_Scraping/chromedriver/chromedriver.exe')"
   ]
  },
  {
   "cell_type": "code",
   "execution_count": 3,
   "id": "d8cff302",
   "metadata": {},
   "outputs": [],
   "source": [
    "url = \"https://youtube-rank.com/board/bbs/board.php?bo_table=youtube\"\n",
    "browser.get(url)"
   ]
  },
  {
   "cell_type": "code",
   "execution_count": 4,
   "id": "99df5ea4",
   "metadata": {},
   "outputs": [],
   "source": [
    "html = browser.page_source\n",
    "soup = BeautifulSoup(html, 'html.parser')"
   ]
  },
  {
   "cell_type": "code",
   "execution_count": 20,
   "id": "63d95669",
   "metadata": {
    "scrolled": true
   },
   "outputs": [
    {
     "name": "stdout",
     "output_type": "stream",
     "text": [
      "101\n"
     ]
    }
   ],
   "source": [
    "channel_list = soup.select('form > table > tbody > tr')\n",
    "print(len(channel_list))"
   ]
  },
  {
   "cell_type": "code",
   "execution_count": 15,
   "id": "17ec04ae",
   "metadata": {
    "collapsed": true
   },
   "outputs": [
    {
     "name": "stdout",
     "output_type": "stream",
     "text": [
      "<tr class=\"aos-init aos-animate\" data-aos=\"fade-up\" data-aos-duration=\"800\">\n",
      "<td class=\"rank\">\n",
      "                        1                    </td>\n",
      "<td class=\"td_img\">\n",
      "<div class=\"info_img\"><a href=\"https://youtube-rank.com/board/bbs/board.php?bo_table=youtube&amp;wr_id=3203\"><img class=\"lazyload\" data-src=\"https://yt3.ggpht.com/ytc/AKedOLTat8_vr7h2i29n67lvNLMp1F-9Ch2ejFRlRzt0zQ=s88-c-k-c0x00ffffff-no-rj-mo\" height=\"88\" src=\"https://yt3.ggpht.com/ytc/AKedOLTat8_vr7h2i29n67lvNLMp1F-9Ch2ejFRlRzt0zQ=s88-c-k-c0x00ffffff-no-rj-mo\" width=\"88\"/></a></div>\n",
      "<p class=\"info_rank\">1</p>\n",
      "</td>\n",
      "<td class=\"subject\">\n",
      "<h1>\n",
      "<p <a=\"\" class=\"category\" href=\"https://youtube-rank.com/board/bbs/board.php?bo_table=youtube&amp;sca=%EC%9D%8C%EC%95%85%2F%EB%8C%84%EC%8A%A4%2F%EA%B0%80%EC%88%98\">[음악/댄스/가수]\n",
      "                                \n",
      "                                </p>\n",
      "<a href=\"https://youtube-rank.com/board/bbs/board.php?bo_table=youtube&amp;wr_id=3203\">\n",
      "\t\t\t\t\t\t\t\t\n",
      "\t\t\t\t\t\t\t\tBLACKPINK\t\t\t\t\t\t\t</a>\n",
      "<span>\n",
      "<i class=\"fa fa-comment\"></i>\n",
      "\t\t\t\t\t\t\t\t1\t\t\t\t\t\t\t</span>\n",
      "<i aria-hidden=\"true\" class=\"fa fa-heart\"></i> </h1>\n",
      "<h2><span><a href=\"https://youtube-rank.com/board/bbs/board.php?bo_table=youtube&amp;wr_id=3203\">\"YG Entertainment\" YG 와이지 K-pop BLACKPINK 블랙핑크 블핑 제니 로제 리사 지수 Lisa Jisoo Jennie ...</a></span></h2>\n",
      "<h3>\n",
      "<i class=\"fa fa-user\"></i>\n",
      "                            6410만<i class=\"fa fa-play\"></i>190억1809만                            <i class=\"fa fa-video-camera\"></i>\n",
      "                            371                            <i class=\"fa fa-eye\"></i>\n",
      "                            14,597                        </h3>\n",
      "</td>\n",
      "<td class=\"subscriber_cnt\">6410만</td>\n",
      "<td class=\"view_cnt\">190억1809만</td>\n",
      "<td class=\"video_cnt\">371개</td>\n",
      "<td class=\"hit\">\n",
      "<strong>14,597</strong>\n",
      "<span>HIT</span>\n",
      "</td>\n",
      "</tr>\n"
     ]
    }
   ],
   "source": [
    "channel = channel_list[0]\n",
    "print(channel)"
   ]
  },
  {
   "cell_type": "code",
   "execution_count": 18,
   "id": "aa51ce0b",
   "metadata": {},
   "outputs": [
    {
     "name": "stdout",
     "output_type": "stream",
     "text": [
      "[음악/댄스/가수]\n",
      "BLACKPINK\n",
      "6410만\n",
      "190억1809만\n",
      "371개\n"
     ]
    }
   ],
   "source": [
    "subscriber = channel.select('.subscriber_cnt')[0].text\n",
    "view = channel.select('.view_cnt')[0].text\n",
    "video = channel.select('.video_cnt')[0].text\n",
    "title = channel.select('h1 > a')[0].text.strip()\n",
    "category = channel.select('p.category')[0].text.strip()\n",
    "print(category)\n",
    "print(title)\n",
    "print(subscriber)\n",
    "print(view)\n",
    "print(video)"
   ]
  },
  {
   "cell_type": "code",
   "execution_count": 21,
   "id": "5b3e6946",
   "metadata": {
    "collapsed": true
   },
   "outputs": [
    {
     "name": "stdout",
     "output_type": "stream",
     "text": [
      "BLACKPINK [음악/댄스/가수] 6410만 190억1809만 371개\n",
      "HYBE LABELS [음악/댄스/가수] 6040만 187억5681만 655개\n",
      "BANGTANTV [음악/댄스/가수] 5650만 122억1297만 1,580개\n",
      "SMTOWN [음악/댄스/가수] 2850만 219억1233만 3,729개\n",
      "Boram Tube Vlog [보람튜브 브이로그] [키즈/어린이] 2650만 110억5288만 223개\n",
      "1MILLION Dance Studio [음악/댄스/가수] 2420만 66억9899만 2,909개\n",
      "1theK (원더케이) [음악/댄스/가수] 2330만 206억1414만 14,992개\n",
      "JYP Entertainment [음악/댄스/가수] 2160만 137억4230만 1,330개\n",
      "Coldplay [미분류] 1930만 127억7603만 280개\n",
      "Mnet K-POP [음악/댄스/가수] 1840만 129억7041만 25,462개\n",
      "JFlaMusic [음악/댄스/가수] 1720만 34억2183만 279개\n",
      "KBS WORLD TV [TV/방송] 1660만 123억6867만 52,401개\n",
      "officialpsy [음악/댄스/가수] 1500만 86억2675만 90개\n",
      "Jane ASMR 제인 [음식/요리/레시피] 1420만 49억2091만 1,191개\n",
      "BIGBANG [음악/댄스/가수] 1380만 66억7998만 773개\n",
      "TWICE [음악/댄스/가수] 1150만 22억0692만 592개\n",
      "Nao FunFun [키즈/어린이] 1080만 389만 34개\n",
      "Stone Music Entertainment [음악/댄스/가수] 998만 78억6926만 7,930개\n",
      "DuDuPopTOY [키즈/어린이] 984만 43억7356만 1,747개\n",
      "Hongyu ASMR 홍유 [음식/요리/레시피] 977만 26억9793만 386개\n",
      "핑크퐁 (인기 동요・동화) [키즈/어린이] 945만 57억1502만 2,228개\n",
      "MBCkpop [TV/방송] 942만 73억6619만 40,660개\n",
      "서은이야기[SeoeunStory] [키즈/어린이] 937만 39억9835만 1,002개\n",
      "Larva TUBA [키즈/어린이] 932만 40억5236만 2,878개\n",
      "Toymong tv 토이몽TV [키즈/어린이] 927만 38억2556만 1,834개\n",
      "The Late Show with Stephen Colbert [미분류] 860만 78억3313만 8,358개\n",
      "MBCentertainment [뉴스/정치/사회] 838만 143억2995만 85,433개\n",
      "Mnet Official [음악/댄스/가수] 834만 90억6521만 18,130개\n",
      "iKON [음악/댄스/가수] 831만 20억9231만 468개\n",
      "EXO [음악/댄스/가수] 828만 4억6530만 201개\n",
      "WIRED [미분류] 812만 26억1278만 3,222개\n",
      "Nintendo [미분류] 802만 27억2792만 5,144개\n",
      "BBC Radio 1 [미분류] 759만 31억9462만 4,414개\n",
      "M2 [TV/방송] 749만 55억3487만 14,282개\n",
      "MariAndKids [키즈/어린이] 748만 22억8884만 808개\n",
      "[햄지]Hamzy [음식/요리/레시피] 746만 21억5223만 331개\n",
      "TOMORROW X TOGETHER OFFICIAL [음악/댄스/가수] 741만 4억4513만 743개\n",
      "SonicToy소닉토이 [키즈/어린이] 717만 29억3478만 164개\n",
      "Stray Kids [음악/댄스/가수] 697만 10억1216만 464개\n",
      "Travel Thirsty [음식/요리/레시피] 688만 28억9776만 676개\n",
      "JTBC Entertainment [뉴스/정치/사회] 685만 97억3042만 64,028개\n",
      "Serie A [해외] 683만 23억8736만 20,486개\n",
      "SEVENTEEN [음악/댄스/가수] 681만 21억2033만 871개\n",
      "Sungha Jung [음악/댄스/가수] 673만 18억7139만 1,263개\n",
      "이지금 [IU Official] [음악/댄스/가수] 665만 9억2940만 125개\n",
      "문복희 Eat with Boki [음식/요리/레시피] 648만 14억4812만 424개\n",
      "ALL THE K-POP [음악/댄스/가수] 638만 38억8505만 19,505개\n",
      "쏘영 Ssoyoung [음식/요리/레시피] 637만 9억3690만 568개\n",
      "YG ENTERTAINMENT [음악/댄스/가수] 635만 16억3182만 389개\n",
      "KBS Kpop [TV/방송] 627만 47억2150만 29,019개\n",
      "GOT7 [음악/댄스/가수] 605만 7억5464만 579개\n",
      "MAMAMOO [음악/댄스/가수] 603만 16억1545만 601개\n",
      "PONY Syndrome [패션/미용] 586만 3억5479만 188개\n",
      "스브스케이팝 / SBS KPOP [TV/방송] 582만 38억6510만 25,852개\n",
      "Samsung [회사/오피셜] 578만 10억1211만 1,554개\n",
      "tvN DRAMA [TV/방송] 577만 55억0344만 34,935개\n",
      "SBS Entertainment [TV/방송] 573만 66억7774만 216,786개\n",
      "스위트티비 SweetTV [키즈/어린이] 561만 26억5552만 503개\n",
      "ITZY [음악/댄스/가수] 556만 9억6245만 423개\n",
      "PSG - Paris Saint-Germain [미분류] 550만 5억7302만 4,069개\n",
      "SBS Drama [TV/방송] 549만 57억5775만 340,880개\n",
      "[장난감티비]TOYTV [키즈/어린이] 542만 26억3597만 1,466개\n",
      "미니특공대TV [키즈/어린이] 538만 30억2287만 1,107개\n",
      "2NE1 [음악/댄스/가수] 530만 19억4756만 321개\n",
      "콩순이 • 시크릿 쥬쥬 [Kongsuni • Secret Jouju] [키즈/어린이] 516만 44억8442만 1,237개\n",
      "[Awesome Haeun]어썸하은 [BJ/인물/연예인] 515만 7억9772만 487개\n",
      "백종원의 요리비책 Paik's Cuisine [음식/요리/레시피] 513만 5억2403만 335개\n",
      "ToyMart TV [키즈/어린이] 495만 21억4853만 651개\n",
      "야미보이 Yummyboy [음식/요리/레시피] 487만 17억2245만 849개\n",
      "starshipTV [음악/댄스/가수] 480만 27억7047만 1,960개\n",
      "베이비버스 -인기 동요・동화 [키즈/어린이] 474만 31억6887만 1,282개\n",
      "BT21 [음악/댄스/가수] 460만 3억6311만 193개\n",
      "SBS NOW / SBS 공식 채널 [뉴스/정치/사회] 458만 45억4123만 19,861개\n",
      "TOY GUMA [키즈/어린이] 458만 15억1643만 306개\n",
      "KBS Entertain [TV/방송] 447만 70억6117만 99,977개\n",
      "떵개떵 [음식/요리/레시피] 447만 25억0821만 4,333개\n",
      "ASTRO 아스트로 [음악/댄스/가수] 441만 4억1311만 434개\n",
      "Red Velvet [음악/댄스/가수] 437만 5억9464만 140개\n",
      "뽀로로(Pororo) [키즈/어린이] 437만 58억7787만 3,597개\n",
      "MBCdrama [TV/방송] 433만 49억0330만 53,974개\n",
      "하루한끼 one meal a day [음식/요리/레시피] 431만 4억1059만 162개\n",
      "TREASURE (트레저) [음악/댄스/가수] 427만 8억2923만 253개\n",
      "푸메Fume [음식/요리/레시피] 425만 8억5891만 464개\n",
      "슈슈토이 Shushu ToysReview [키즈/어린이] 420만 15억5498만 581개\n",
      "채널 NCT DAILY [TV/방송] 419만 7억2412만 467개\n",
      "Raon Lee [음악/댄스/가수] 419만 9억1695만 295개\n",
      "EA SPORTS FIFA [미분류] 418만 7억9367만 792개\n",
      "With Kids Playground [위드키즈 놀이터] [키즈/어린이] 416만 15억7093만 399개\n",
      "Cooking tree 쿠킹트리 [음식/요리/레시피] 416만 3억7895만 1,134개\n",
      "[Dorothy]도로시 [음식/요리/레시피] 415만 9억8684만 905개\n",
      "JTBC Drama [TV/방송] 412만 42억1267만 22,563개\n",
      "SBS TV동물농장x애니멀봐 [애완/반려동물] 412만 37억4911만 3,002개\n",
      "tzuyang쯔양 [음식/요리/레시피] 412만 5억1113만 237개\n",
      "NCT [음악/댄스/가수] 411만 2억7111만 219개\n",
      "영국남자 Korean Englishman [BJ/인물/연예인] 410만 13억3708만 432개\n",
      "까니짱 [ G-NI ] [음식/요리/레시피] 408만 10억3471만 482개\n",
      "로미유 스토리[Romiyu Story] [키즈/어린이] 408만 10억6656만 433개\n",
      "NCT DREAM [음악/댄스/가수] 387만 3억7615만 229개\n",
      "JaeYeol ASMR 재열 [취미/라이프] 381만 10억1679만 971개\n",
      "허팝Heopop [BJ/인물/연예인] 381만 31억4525만 1,850개\n"
     ]
    },
    {
     "ename": "IndexError",
     "evalue": "list index out of range",
     "output_type": "error",
     "traceback": [
      "\u001b[1;31m---------------------------------------------------------------------------\u001b[0m",
      "\u001b[1;31mIndexError\u001b[0m                                Traceback (most recent call last)",
      "\u001b[1;32m<ipython-input-21-960edbc61395>\u001b[0m in \u001b[0;36m<module>\u001b[1;34m\u001b[0m\n\u001b[0;32m      1\u001b[0m \u001b[0mchannel_list\u001b[0m \u001b[1;33m=\u001b[0m \u001b[0msoup\u001b[0m\u001b[1;33m.\u001b[0m\u001b[0mselect\u001b[0m\u001b[1;33m(\u001b[0m\u001b[1;34m'tbody > tr'\u001b[0m\u001b[1;33m)\u001b[0m\u001b[1;33m\u001b[0m\u001b[1;33m\u001b[0m\u001b[0m\n\u001b[0;32m      2\u001b[0m \u001b[1;32mfor\u001b[0m \u001b[0mchannel\u001b[0m \u001b[1;32min\u001b[0m \u001b[0mchannel_list\u001b[0m\u001b[1;33m:\u001b[0m\u001b[1;33m\u001b[0m\u001b[1;33m\u001b[0m\u001b[0m\n\u001b[1;32m----> 3\u001b[1;33m  \u001b[0mtitle\u001b[0m \u001b[1;33m=\u001b[0m \u001b[0mchannel\u001b[0m\u001b[1;33m.\u001b[0m\u001b[0mselect\u001b[0m\u001b[1;33m(\u001b[0m\u001b[1;34m'h1 > a'\u001b[0m\u001b[1;33m)\u001b[0m\u001b[1;33m[\u001b[0m\u001b[1;36m0\u001b[0m\u001b[1;33m]\u001b[0m\u001b[1;33m.\u001b[0m\u001b[0mtext\u001b[0m\u001b[1;33m.\u001b[0m\u001b[0mstrip\u001b[0m\u001b[1;33m(\u001b[0m\u001b[1;33m)\u001b[0m\u001b[1;33m\u001b[0m\u001b[1;33m\u001b[0m\u001b[0m\n\u001b[0m\u001b[0;32m      4\u001b[0m  \u001b[0mcategory\u001b[0m \u001b[1;33m=\u001b[0m \u001b[0mchannel\u001b[0m\u001b[1;33m.\u001b[0m\u001b[0mselect\u001b[0m\u001b[1;33m(\u001b[0m\u001b[1;34m'p.category'\u001b[0m\u001b[1;33m)\u001b[0m\u001b[1;33m[\u001b[0m\u001b[1;36m0\u001b[0m\u001b[1;33m]\u001b[0m\u001b[1;33m.\u001b[0m\u001b[0mtext\u001b[0m\u001b[1;33m.\u001b[0m\u001b[0mstrip\u001b[0m\u001b[1;33m(\u001b[0m\u001b[1;33m)\u001b[0m\u001b[1;33m\u001b[0m\u001b[1;33m\u001b[0m\u001b[0m\n\u001b[0;32m      5\u001b[0m  \u001b[0msubscriber\u001b[0m \u001b[1;33m=\u001b[0m \u001b[0mchannel\u001b[0m\u001b[1;33m.\u001b[0m\u001b[0mselect\u001b[0m\u001b[1;33m(\u001b[0m\u001b[1;34m'.subscriber_cnt'\u001b[0m\u001b[1;33m)\u001b[0m\u001b[1;33m[\u001b[0m\u001b[1;36m0\u001b[0m\u001b[1;33m]\u001b[0m\u001b[1;33m.\u001b[0m\u001b[0mtext\u001b[0m\u001b[1;33m\u001b[0m\u001b[1;33m\u001b[0m\u001b[0m\n",
      "\u001b[1;31mIndexError\u001b[0m: list index out of range"
     ]
    }
   ],
   "source": [
    "channel_list = soup.select('tbody > tr') \n",
    "for channel in channel_list:\n",
    " title = channel.select('h1 > a')[0].text.strip()\n",
    " category = channel.select('p.category')[0].text.strip()\n",
    " subscriber = channel.select('.subscriber_cnt')[0].text\n",
    " view = channel.select('.view_cnt')[0].text\n",
    " video = channel.select('.video_cnt')[0].text\n",
    " print(title, category, subscriber, view, video)"
   ]
  },
  {
   "cell_type": "code",
   "execution_count": 22,
   "id": "54029cb5",
   "metadata": {},
   "outputs": [
    {
     "name": "stdout",
     "output_type": "stream",
     "text": [
      "https://youtube-rank.com/board/bbs/board.php?bo_table=youtube&page=1\n"
     ]
    }
   ],
   "source": [
    "page = 1\n",
    "url = 'https://youtube-rank.com/board/bbs/board.php?bo_table=youtube&page={}'.format(page)\n",
    "print(url)"
   ]
  },
  {
   "cell_type": "code",
   "execution_count": 23,
   "id": "9fb055b7",
   "metadata": {},
   "outputs": [],
   "source": [
    "results = []\n",
    "for page in range(1,11):\n",
    "    url = f\"https://youtube-rank.com/board/bbs/board.php?bo_table=youtube&page={page}\"\n",
    "    browser.get(url)\n",
    "    time.sleep(2)\n",
    "    html = browser.page_source\n",
    "    soup = BeautifulSoup(html, 'html.parser')\n",
    "    channel_list = soup.select('form > table > tbody > tr')\n",
    "    for channel in channel_list:\n",
    "        title = channel.select('h1 > a')[0].text.strip() \n",
    "        category = channel.select('p.category')[0].text.strip()\n",
    "        subscriber = channel.select('.subscriber_cnt')[0].text\n",
    "        view = channel.select('.view_cnt')[0].text\n",
    "        video = channel.select('.video_cnt')[0].text\n",
    "        data = [title, category, subscriber, view, video]\n",
    "        results.append(data)b"
   ]
  },
  {
   "cell_type": "code",
   "execution_count": 67,
   "id": "dfbe7836",
   "metadata": {},
   "outputs": [
    {
     "ename": "FileNotFoundError",
     "evalue": "[Errno 2] No such file or directory: './files/youtube_rank.xlsx'",
     "output_type": "error",
     "traceback": [
      "\u001b[1;31m---------------------------------------------------------------------------\u001b[0m",
      "\u001b[1;31mFileNotFoundError\u001b[0m                         Traceback (most recent call last)",
      "\u001b[1;32m<ipython-input-67-946c8b295077>\u001b[0m in \u001b[0;36m<module>\u001b[1;34m\u001b[0m\n\u001b[0;32m      1\u001b[0m \u001b[0mdf\u001b[0m \u001b[1;33m=\u001b[0m \u001b[0mpd\u001b[0m\u001b[1;33m.\u001b[0m\u001b[0mDataFrame\u001b[0m\u001b[1;33m(\u001b[0m\u001b[0mresults\u001b[0m\u001b[1;33m)\u001b[0m\u001b[1;33m\u001b[0m\u001b[1;33m\u001b[0m\u001b[0m\n\u001b[0;32m      2\u001b[0m \u001b[0mdf\u001b[0m\u001b[1;33m.\u001b[0m\u001b[0mcolumns\u001b[0m \u001b[1;33m=\u001b[0m \u001b[1;33m[\u001b[0m\u001b[1;34m'title'\u001b[0m\u001b[1;33m,\u001b[0m \u001b[1;34m'category'\u001b[0m\u001b[1;33m,\u001b[0m \u001b[1;34m'subscriber'\u001b[0m\u001b[1;33m,\u001b[0m \u001b[1;34m'view'\u001b[0m\u001b[1;33m,\u001b[0m \u001b[1;34m'video'\u001b[0m\u001b[1;33m]\u001b[0m\u001b[1;33m\u001b[0m\u001b[1;33m\u001b[0m\u001b[0m\n\u001b[1;32m----> 3\u001b[1;33m \u001b[0mdf\u001b[0m\u001b[1;33m.\u001b[0m\u001b[0mto_excel\u001b[0m\u001b[1;33m(\u001b[0m\u001b[1;34m'./files/youtube_rank.xlsx'\u001b[0m\u001b[1;33m,\u001b[0m \u001b[0mindex\u001b[0m \u001b[1;33m=\u001b[0m \u001b[1;32mFalse\u001b[0m\u001b[1;33m)\u001b[0m\u001b[1;33m\u001b[0m\u001b[1;33m\u001b[0m\u001b[0m\n\u001b[0m",
      "\u001b[1;32mC:\\ProgramData\\Anaconda3\\lib\\site-packages\\pandas\\core\\generic.py\u001b[0m in \u001b[0;36mto_excel\u001b[1;34m(self, excel_writer, sheet_name, na_rep, float_format, columns, header, index, index_label, startrow, startcol, engine, merge_cells, encoding, inf_rep, verbose, freeze_panes, storage_options)\u001b[0m\n\u001b[0;32m   2187\u001b[0m             \u001b[0minf_rep\u001b[0m\u001b[1;33m=\u001b[0m\u001b[0minf_rep\u001b[0m\u001b[1;33m,\u001b[0m\u001b[1;33m\u001b[0m\u001b[1;33m\u001b[0m\u001b[0m\n\u001b[0;32m   2188\u001b[0m         )\n\u001b[1;32m-> 2189\u001b[1;33m         formatter.write(\n\u001b[0m\u001b[0;32m   2190\u001b[0m             \u001b[0mexcel_writer\u001b[0m\u001b[1;33m,\u001b[0m\u001b[1;33m\u001b[0m\u001b[1;33m\u001b[0m\u001b[0m\n\u001b[0;32m   2191\u001b[0m             \u001b[0msheet_name\u001b[0m\u001b[1;33m=\u001b[0m\u001b[0msheet_name\u001b[0m\u001b[1;33m,\u001b[0m\u001b[1;33m\u001b[0m\u001b[1;33m\u001b[0m\u001b[0m\n",
      "\u001b[1;32mC:\\ProgramData\\Anaconda3\\lib\\site-packages\\pandas\\io\\formats\\excel.py\u001b[0m in \u001b[0;36mwrite\u001b[1;34m(self, writer, sheet_name, startrow, startcol, freeze_panes, engine, storage_options)\u001b[0m\n\u001b[0;32m    813\u001b[0m             \u001b[1;31m# abstract class 'ExcelWriter' with abstract attributes 'engine',\u001b[0m\u001b[1;33m\u001b[0m\u001b[1;33m\u001b[0m\u001b[1;33m\u001b[0m\u001b[0m\n\u001b[0;32m    814\u001b[0m             \u001b[1;31m# 'save', 'supported_extensions' and 'write_cells'  [abstract]\u001b[0m\u001b[1;33m\u001b[0m\u001b[1;33m\u001b[0m\u001b[1;33m\u001b[0m\u001b[0m\n\u001b[1;32m--> 815\u001b[1;33m             writer = ExcelWriter(  # type: ignore[abstract]\n\u001b[0m\u001b[0;32m    816\u001b[0m                 \u001b[0mwriter\u001b[0m\u001b[1;33m,\u001b[0m \u001b[0mengine\u001b[0m\u001b[1;33m=\u001b[0m\u001b[0mengine\u001b[0m\u001b[1;33m,\u001b[0m \u001b[0mstorage_options\u001b[0m\u001b[1;33m=\u001b[0m\u001b[0mstorage_options\u001b[0m\u001b[1;33m\u001b[0m\u001b[1;33m\u001b[0m\u001b[0m\n\u001b[0;32m    817\u001b[0m             )\n",
      "\u001b[1;32mC:\\ProgramData\\Anaconda3\\lib\\site-packages\\pandas\\io\\excel\\_xlsxwriter.py\u001b[0m in \u001b[0;36m__init__\u001b[1;34m(self, path, engine, date_format, datetime_format, mode, storage_options, **engine_kwargs)\u001b[0m\n\u001b[0;32m    180\u001b[0m             \u001b[1;32mraise\u001b[0m \u001b[0mValueError\u001b[0m\u001b[1;33m(\u001b[0m\u001b[1;34m\"Append mode is not supported with xlsxwriter!\"\u001b[0m\u001b[1;33m)\u001b[0m\u001b[1;33m\u001b[0m\u001b[1;33m\u001b[0m\u001b[0m\n\u001b[0;32m    181\u001b[0m \u001b[1;33m\u001b[0m\u001b[0m\n\u001b[1;32m--> 182\u001b[1;33m         super().__init__(\n\u001b[0m\u001b[0;32m    183\u001b[0m             \u001b[0mpath\u001b[0m\u001b[1;33m,\u001b[0m\u001b[1;33m\u001b[0m\u001b[1;33m\u001b[0m\u001b[0m\n\u001b[0;32m    184\u001b[0m             \u001b[0mengine\u001b[0m\u001b[1;33m=\u001b[0m\u001b[0mengine\u001b[0m\u001b[1;33m,\u001b[0m\u001b[1;33m\u001b[0m\u001b[1;33m\u001b[0m\u001b[0m\n",
      "\u001b[1;32mC:\\ProgramData\\Anaconda3\\lib\\site-packages\\pandas\\io\\excel\\_base.py\u001b[0m in \u001b[0;36m__init__\u001b[1;34m(self, path, engine, date_format, datetime_format, mode, storage_options, **engine_kwargs)\u001b[0m\n\u001b[0;32m    808\u001b[0m         \u001b[0mself\u001b[0m\u001b[1;33m.\u001b[0m\u001b[0mhandles\u001b[0m \u001b[1;33m=\u001b[0m \u001b[0mIOHandles\u001b[0m\u001b[1;33m(\u001b[0m\u001b[0mcast\u001b[0m\u001b[1;33m(\u001b[0m\u001b[0mBuffer\u001b[0m\u001b[1;33m,\u001b[0m \u001b[0mpath\u001b[0m\u001b[1;33m)\u001b[0m\u001b[1;33m,\u001b[0m \u001b[0mcompression\u001b[0m\u001b[1;33m=\u001b[0m\u001b[1;33m{\u001b[0m\u001b[1;34m\"copression\"\u001b[0m\u001b[1;33m:\u001b[0m \u001b[1;32mNone\u001b[0m\u001b[1;33m}\u001b[0m\u001b[1;33m)\u001b[0m\u001b[1;33m\u001b[0m\u001b[1;33m\u001b[0m\u001b[0m\n\u001b[0;32m    809\u001b[0m         \u001b[1;32mif\u001b[0m \u001b[1;32mnot\u001b[0m \u001b[0misinstance\u001b[0m\u001b[1;33m(\u001b[0m\u001b[0mpath\u001b[0m\u001b[1;33m,\u001b[0m \u001b[0mExcelWriter\u001b[0m\u001b[1;33m)\u001b[0m\u001b[1;33m:\u001b[0m\u001b[1;33m\u001b[0m\u001b[1;33m\u001b[0m\u001b[0m\n\u001b[1;32m--> 810\u001b[1;33m             self.handles = get_handle(\n\u001b[0m\u001b[0;32m    811\u001b[0m                 \u001b[0mpath\u001b[0m\u001b[1;33m,\u001b[0m \u001b[0mmode\u001b[0m\u001b[1;33m,\u001b[0m \u001b[0mstorage_options\u001b[0m\u001b[1;33m=\u001b[0m\u001b[0mstorage_options\u001b[0m\u001b[1;33m,\u001b[0m \u001b[0mis_text\u001b[0m\u001b[1;33m=\u001b[0m\u001b[1;32mFalse\u001b[0m\u001b[1;33m\u001b[0m\u001b[1;33m\u001b[0m\u001b[0m\n\u001b[0;32m    812\u001b[0m             )\n",
      "\u001b[1;32mC:\\ProgramData\\Anaconda3\\lib\\site-packages\\pandas\\io\\common.py\u001b[0m in \u001b[0;36mget_handle\u001b[1;34m(path_or_buf, mode, encoding, compression, memory_map, is_text, errors, storage_options)\u001b[0m\n\u001b[0;32m    649\u001b[0m         \u001b[1;32melse\u001b[0m\u001b[1;33m:\u001b[0m\u001b[1;33m\u001b[0m\u001b[1;33m\u001b[0m\u001b[0m\n\u001b[0;32m    650\u001b[0m             \u001b[1;31m# Binary mode\u001b[0m\u001b[1;33m\u001b[0m\u001b[1;33m\u001b[0m\u001b[1;33m\u001b[0m\u001b[0m\n\u001b[1;32m--> 651\u001b[1;33m             \u001b[0mhandle\u001b[0m \u001b[1;33m=\u001b[0m \u001b[0mopen\u001b[0m\u001b[1;33m(\u001b[0m\u001b[0mhandle\u001b[0m\u001b[1;33m,\u001b[0m \u001b[0mioargs\u001b[0m\u001b[1;33m.\u001b[0m\u001b[0mmode\u001b[0m\u001b[1;33m)\u001b[0m\u001b[1;33m\u001b[0m\u001b[1;33m\u001b[0m\u001b[0m\n\u001b[0m\u001b[0;32m    652\u001b[0m         \u001b[0mhandles\u001b[0m\u001b[1;33m.\u001b[0m\u001b[0mappend\u001b[0m\u001b[1;33m(\u001b[0m\u001b[0mhandle\u001b[0m\u001b[1;33m)\u001b[0m\u001b[1;33m\u001b[0m\u001b[1;33m\u001b[0m\u001b[0m\n\u001b[0;32m    653\u001b[0m \u001b[1;33m\u001b[0m\u001b[0m\n",
      "\u001b[1;31mFileNotFoundError\u001b[0m: [Errno 2] No such file or directory: './files/youtube_rank.xlsx'"
     ]
    }
   ],
   "source": [
    "df = pd.DataFrame(results)\n",
    "df.columns = ['title', 'category', 'subscriber', 'view', 'video']\n",
    "df.to_excel('C:/Users/USER/python_Data_analytics/youtube_rank.xlsx', index = False)"
   ]
  },
  {
   "cell_type": "code",
   "execution_count": 26,
   "id": "7fdda9f7",
   "metadata": {},
   "outputs": [],
   "source": [
    "import pandas as pd\n",
    "import matplotlib.pyplot as plt"
   ]
  },
  {
   "cell_type": "code",
   "execution_count": 27,
   "id": "f3146d6d",
   "metadata": {},
   "outputs": [],
   "source": [
    "from matplotlib import font_manager, rc\n",
    "import platform\n",
    "if platform.system() == 'Windows':\n",
    " path = 'c:/Windows/Fonts/malgun.ttf'\n",
    " font_name = font_manager.FontProperties(fname = path).get_name()\n",
    " rc('font', family = font_name)\n",
    "elif platform.system() == 'Darwin':\n",
    " rc('font', family = 'AppleGothic')\n",
    "else:\n",
    " print('Check your OS system')"
   ]
  },
  {
   "cell_type": "code",
   "execution_count": 28,
   "id": "1cff0cc5",
   "metadata": {
    "collapsed": true
   },
   "outputs": [
    {
     "data": {
      "text/html": [
       "<div>\n",
       "<style scoped>\n",
       "    .dataframe tbody tr th:only-of-type {\n",
       "        vertical-align: middle;\n",
       "    }\n",
       "\n",
       "    .dataframe tbody tr th {\n",
       "        vertical-align: top;\n",
       "    }\n",
       "\n",
       "    .dataframe thead th {\n",
       "        text-align: right;\n",
       "    }\n",
       "</style>\n",
       "<table border=\"1\" class=\"dataframe\">\n",
       "  <thead>\n",
       "    <tr style=\"text-align: right;\">\n",
       "      <th></th>\n",
       "      <th>title</th>\n",
       "      <th>category</th>\n",
       "      <th>subscriber</th>\n",
       "      <th>view</th>\n",
       "      <th>video</th>\n",
       "    </tr>\n",
       "  </thead>\n",
       "  <tbody>\n",
       "    <tr>\n",
       "      <th>0</th>\n",
       "      <td>BLACKPINK</td>\n",
       "      <td>[음악/댄스/가수]</td>\n",
       "      <td>6410만</td>\n",
       "      <td>190억1809만</td>\n",
       "      <td>371개</td>\n",
       "    </tr>\n",
       "    <tr>\n",
       "      <th>1</th>\n",
       "      <td>HYBE LABELS</td>\n",
       "      <td>[음악/댄스/가수]</td>\n",
       "      <td>6040만</td>\n",
       "      <td>187억5681만</td>\n",
       "      <td>655개</td>\n",
       "    </tr>\n",
       "    <tr>\n",
       "      <th>2</th>\n",
       "      <td>BANGTANTV</td>\n",
       "      <td>[음악/댄스/가수]</td>\n",
       "      <td>5650만</td>\n",
       "      <td>122억1297만</td>\n",
       "      <td>1,580개</td>\n",
       "    </tr>\n",
       "    <tr>\n",
       "      <th>3</th>\n",
       "      <td>SMTOWN</td>\n",
       "      <td>[음악/댄스/가수]</td>\n",
       "      <td>2850만</td>\n",
       "      <td>219억1233만</td>\n",
       "      <td>3,729개</td>\n",
       "    </tr>\n",
       "    <tr>\n",
       "      <th>4</th>\n",
       "      <td>Boram Tube Vlog [보람튜브 브이로그]</td>\n",
       "      <td>[키즈/어린이]</td>\n",
       "      <td>2650만</td>\n",
       "      <td>110억5288만</td>\n",
       "      <td>223개</td>\n",
       "    </tr>\n",
       "  </tbody>\n",
       "</table>\n",
       "</div>"
      ],
      "text/plain": [
       "                         title    category subscriber       view   video\n",
       "0                    BLACKPINK  [음악/댄스/가수]      6410만  190억1809만    371개\n",
       "1                  HYBE LABELS  [음악/댄스/가수]      6040만  187억5681만    655개\n",
       "2                    BANGTANTV  [음악/댄스/가수]      5650만  122억1297만  1,580개\n",
       "3                       SMTOWN  [음악/댄스/가수]      2850만  219억1233만  3,729개\n",
       "4  Boram Tube Vlog [보람튜브 브이로그]    [키즈/어린이]      2650만  110억5288만    223개"
      ]
     },
     "execution_count": 28,
     "metadata": {},
     "output_type": "execute_result"
    }
   ],
   "source": [
    "df = pd.read_excel('C:/Users/USER/python_Data_analytics/youtube_rank.xlsx')\n",
    "df.head()"
   ]
  },
  {
   "cell_type": "code",
   "execution_count": 29,
   "id": "1ef4d588",
   "metadata": {
    "collapsed": true
   },
   "outputs": [
    {
     "data": {
      "text/html": [
       "<div>\n",
       "<style scoped>\n",
       "    .dataframe tbody tr th:only-of-type {\n",
       "        vertical-align: middle;\n",
       "    }\n",
       "\n",
       "    .dataframe tbody tr th {\n",
       "        vertical-align: top;\n",
       "    }\n",
       "\n",
       "    .dataframe thead th {\n",
       "        text-align: right;\n",
       "    }\n",
       "</style>\n",
       "<table border=\"1\" class=\"dataframe\">\n",
       "  <thead>\n",
       "    <tr style=\"text-align: right;\">\n",
       "      <th></th>\n",
       "      <th>title</th>\n",
       "      <th>category</th>\n",
       "      <th>subscriber</th>\n",
       "      <th>view</th>\n",
       "      <th>video</th>\n",
       "    </tr>\n",
       "  </thead>\n",
       "  <tbody>\n",
       "    <tr>\n",
       "      <th>995</th>\n",
       "      <td>OGN</td>\n",
       "      <td>[게임]</td>\n",
       "      <td>51만</td>\n",
       "      <td>6억0888만</td>\n",
       "      <td>27,433개</td>\n",
       "    </tr>\n",
       "    <tr>\n",
       "      <th>996</th>\n",
       "      <td>밉지않은 관종언니</td>\n",
       "      <td>[미분류]</td>\n",
       "      <td>51만</td>\n",
       "      <td>6795만</td>\n",
       "      <td>170개</td>\n",
       "    </tr>\n",
       "    <tr>\n",
       "      <th>997</th>\n",
       "      <td>미소</td>\n",
       "      <td>[게임]</td>\n",
       "      <td>51만</td>\n",
       "      <td>2억1078만</td>\n",
       "      <td>3,084개</td>\n",
       "    </tr>\n",
       "    <tr>\n",
       "      <th>998</th>\n",
       "      <td>Muggo</td>\n",
       "      <td>[음식/요리/레시피]</td>\n",
       "      <td>51만</td>\n",
       "      <td>1억8372만</td>\n",
       "      <td>1,388개</td>\n",
       "    </tr>\n",
       "    <tr>\n",
       "      <th>999</th>\n",
       "      <td>임선비</td>\n",
       "      <td>[게임]</td>\n",
       "      <td>51만</td>\n",
       "      <td>2억3429만</td>\n",
       "      <td>1,134개</td>\n",
       "    </tr>\n",
       "  </tbody>\n",
       "</table>\n",
       "</div>"
      ],
      "text/plain": [
       "         title     category subscriber     view    video\n",
       "995        OGN         [게임]        51만  6억0888만  27,433개\n",
       "996  밉지않은 관종언니        [미분류]        51만    6795만     170개\n",
       "997         미소         [게임]        51만  2억1078만   3,084개\n",
       "998      Muggo  [음식/요리/레시피]        51만  1억8372만   1,388개\n",
       "999        임선비         [게임]        51만  2억3429만   1,134개"
      ]
     },
     "execution_count": 29,
     "metadata": {},
     "output_type": "execute_result"
    }
   ],
   "source": [
    "df.tail()"
   ]
  },
  {
   "cell_type": "code",
   "execution_count": 44,
   "id": "128f0bef",
   "metadata": {
    "collapsed": true
   },
   "outputs": [
    {
     "data": {
      "text/plain": [
       "0    6410만\n",
       "1    6040만\n",
       "2    5650만\n",
       "3    2850만\n",
       "4    2650만\n",
       "5    2420만\n",
       "6    2330만\n",
       "7    2160만\n",
       "8    1930만\n",
       "9    1840만\n",
       "Name: subscriber, dtype: object"
      ]
     },
     "execution_count": 44,
     "metadata": {},
     "output_type": "execute_result"
    }
   ],
   "source": [
    "df['subscriber'][0:10]"
   ]
  },
  {
   "cell_type": "code",
   "execution_count": 31,
   "id": "375ce8c4",
   "metadata": {
    "collapsed": true
   },
   "outputs": [
    {
     "data": {
      "text/plain": [
       "0    64100000\n",
       "1    60400000\n",
       "2    56500000\n",
       "3    28500000\n",
       "4    26500000\n",
       "5    24200000\n",
       "6    23300000\n",
       "7    21600000\n",
       "8    19300000\n",
       "9    18400000\n",
       "Name: subscriber, dtype: object"
      ]
     },
     "execution_count": 31,
     "metadata": {},
     "output_type": "execute_result"
    }
   ],
   "source": [
    "df['subscriber'].str.replace('만', '0000')[0:10]"
   ]
  },
  {
   "cell_type": "code",
   "execution_count": 33,
   "id": "26978308",
   "metadata": {
    "collapsed": true
   },
   "outputs": [
    {
     "data": {
      "text/html": [
       "<div>\n",
       "<style scoped>\n",
       "    .dataframe tbody tr th:only-of-type {\n",
       "        vertical-align: middle;\n",
       "    }\n",
       "\n",
       "    .dataframe tbody tr th {\n",
       "        vertical-align: top;\n",
       "    }\n",
       "\n",
       "    .dataframe thead th {\n",
       "        text-align: right;\n",
       "    }\n",
       "</style>\n",
       "<table border=\"1\" class=\"dataframe\">\n",
       "  <thead>\n",
       "    <tr style=\"text-align: right;\">\n",
       "      <th></th>\n",
       "      <th>title</th>\n",
       "      <th>category</th>\n",
       "      <th>subscriber</th>\n",
       "      <th>view</th>\n",
       "      <th>video</th>\n",
       "      <th>replaced_subscriber</th>\n",
       "    </tr>\n",
       "  </thead>\n",
       "  <tbody>\n",
       "    <tr>\n",
       "      <th>0</th>\n",
       "      <td>BLACKPINK</td>\n",
       "      <td>[음악/댄스/가수]</td>\n",
       "      <td>6410만</td>\n",
       "      <td>190억1809만</td>\n",
       "      <td>371개</td>\n",
       "      <td>64100000</td>\n",
       "    </tr>\n",
       "    <tr>\n",
       "      <th>1</th>\n",
       "      <td>HYBE LABELS</td>\n",
       "      <td>[음악/댄스/가수]</td>\n",
       "      <td>6040만</td>\n",
       "      <td>187억5681만</td>\n",
       "      <td>655개</td>\n",
       "      <td>60400000</td>\n",
       "    </tr>\n",
       "    <tr>\n",
       "      <th>2</th>\n",
       "      <td>BANGTANTV</td>\n",
       "      <td>[음악/댄스/가수]</td>\n",
       "      <td>5650만</td>\n",
       "      <td>122억1297만</td>\n",
       "      <td>1,580개</td>\n",
       "      <td>56500000</td>\n",
       "    </tr>\n",
       "    <tr>\n",
       "      <th>3</th>\n",
       "      <td>SMTOWN</td>\n",
       "      <td>[음악/댄스/가수]</td>\n",
       "      <td>2850만</td>\n",
       "      <td>219억1233만</td>\n",
       "      <td>3,729개</td>\n",
       "      <td>28500000</td>\n",
       "    </tr>\n",
       "    <tr>\n",
       "      <th>4</th>\n",
       "      <td>Boram Tube Vlog [보람튜브 브이로그]</td>\n",
       "      <td>[키즈/어린이]</td>\n",
       "      <td>2650만</td>\n",
       "      <td>110억5288만</td>\n",
       "      <td>223개</td>\n",
       "      <td>26500000</td>\n",
       "    </tr>\n",
       "  </tbody>\n",
       "</table>\n",
       "</div>"
      ],
      "text/plain": [
       "                         title    category subscriber       view   video  \\\n",
       "0                    BLACKPINK  [음악/댄스/가수]      6410만  190억1809만    371개   \n",
       "1                  HYBE LABELS  [음악/댄스/가수]      6040만  187억5681만    655개   \n",
       "2                    BANGTANTV  [음악/댄스/가수]      5650만  122억1297만  1,580개   \n",
       "3                       SMTOWN  [음악/댄스/가수]      2850만  219억1233만  3,729개   \n",
       "4  Boram Tube Vlog [보람튜브 브이로그]    [키즈/어린이]      2650만  110억5288만    223개   \n",
       "\n",
       "  replaced_subscriber  \n",
       "0            64100000  \n",
       "1            60400000  \n",
       "2            56500000  \n",
       "3            28500000  \n",
       "4            26500000  "
      ]
     },
     "execution_count": 33,
     "metadata": {},
     "output_type": "execute_result"
    }
   ],
   "source": [
    "df['replaced_subscriber'] = df['subscriber'].str.replace('만', '0000')\n",
    "df.head()"
   ]
  },
  {
   "cell_type": "code",
   "execution_count": 34,
   "id": "443c4ba5",
   "metadata": {
    "collapsed": true
   },
   "outputs": [
    {
     "name": "stdout",
     "output_type": "stream",
     "text": [
      "<class 'pandas.core.frame.DataFrame'>\n",
      "RangeIndex: 1000 entries, 0 to 999\n",
      "Data columns (total 6 columns):\n",
      " #   Column               Non-Null Count  Dtype \n",
      "---  ------               --------------  ----- \n",
      " 0   title                1000 non-null   object\n",
      " 1   category             1000 non-null   object\n",
      " 2   subscriber           1000 non-null   object\n",
      " 3   view                 1000 non-null   object\n",
      " 4   video                1000 non-null   object\n",
      " 5   replaced_subscriber  1000 non-null   object\n",
      "dtypes: object(6)\n",
      "memory usage: 47.0+ KB\n"
     ]
    }
   ],
   "source": [
    "df.info()"
   ]
  },
  {
   "cell_type": "code",
   "execution_count": 35,
   "id": "3485a431",
   "metadata": {
    "collapsed": true
   },
   "outputs": [
    {
     "name": "stdout",
     "output_type": "stream",
     "text": [
      "<class 'pandas.core.frame.DataFrame'>\n",
      "RangeIndex: 1000 entries, 0 to 999\n",
      "Data columns (total 6 columns):\n",
      " #   Column               Non-Null Count  Dtype \n",
      "---  ------               --------------  ----- \n",
      " 0   title                1000 non-null   object\n",
      " 1   category             1000 non-null   object\n",
      " 2   subscriber           1000 non-null   object\n",
      " 3   view                 1000 non-null   object\n",
      " 4   video                1000 non-null   object\n",
      " 5   replaced_subscriber  1000 non-null   int32 \n",
      "dtypes: int32(1), object(5)\n",
      "memory usage: 43.1+ KB\n"
     ]
    }
   ],
   "source": [
    "df['replaced_subscriber'] = df['replaced_subscriber'].astype('int')\n",
    "df.info()"
   ]
  },
  {
   "cell_type": "code",
   "execution_count": 57,
   "id": "428fff83",
   "metadata": {},
   "outputs": [
    {
     "data": {
      "text/html": [
       "<div>\n",
       "<style scoped>\n",
       "    .dataframe tbody tr th:only-of-type {\n",
       "        vertical-align: middle;\n",
       "    }\n",
       "\n",
       "    .dataframe tbody tr th {\n",
       "        vertical-align: top;\n",
       "    }\n",
       "\n",
       "    .dataframe thead tr th {\n",
       "        text-align: left;\n",
       "    }\n",
       "\n",
       "    .dataframe thead tr:last-of-type th {\n",
       "        text-align: right;\n",
       "    }\n",
       "</style>\n",
       "<table border=\"1\" class=\"dataframe\">\n",
       "  <thead>\n",
       "    <tr>\n",
       "      <th></th>\n",
       "      <th>sum</th>\n",
       "      <th>count</th>\n",
       "    </tr>\n",
       "    <tr>\n",
       "      <th></th>\n",
       "      <th>replaced_subscriber</th>\n",
       "      <th>replaced_subscriber</th>\n",
       "    </tr>\n",
       "    <tr>\n",
       "      <th>category</th>\n",
       "      <th></th>\n",
       "      <th></th>\n",
       "    </tr>\n",
       "  </thead>\n",
       "  <tbody>\n",
       "    <tr>\n",
       "      <th>[BJ/인물/연예인]</th>\n",
       "      <td>97640000</td>\n",
       "      <td>71</td>\n",
       "    </tr>\n",
       "    <tr>\n",
       "      <th>[IT/기술/컴퓨터]</th>\n",
       "      <td>7970000</td>\n",
       "      <td>8</td>\n",
       "    </tr>\n",
       "    <tr>\n",
       "      <th>[TV/방송]</th>\n",
       "      <td>229930000</td>\n",
       "      <td>146</td>\n",
       "    </tr>\n",
       "    <tr>\n",
       "      <th>[게임]</th>\n",
       "      <td>67190000</td>\n",
       "      <td>74</td>\n",
       "    </tr>\n",
       "    <tr>\n",
       "      <th>[교육/강의]</th>\n",
       "      <td>23450000</td>\n",
       "      <td>22</td>\n",
       "    </tr>\n",
       "  </tbody>\n",
       "</table>\n",
       "</div>"
      ],
      "text/plain": [
       "                            sum               count\n",
       "            replaced_subscriber replaced_subscriber\n",
       "category                                           \n",
       "[BJ/인물/연예인]            97640000                  71\n",
       "[IT/기술/컴퓨터]             7970000                   8\n",
       "[TV/방송]               229930000                 146\n",
       "[게임]                   67190000                  74\n",
       "[교육/강의]                23450000                  22"
      ]
     },
     "execution_count": 57,
     "metadata": {},
     "output_type": "execute_result"
    }
   ],
   "source": [
    "pivot_df = df.pivot_table(index = 'category', values = 'replaced_subscriber', aggfunc = ['sum','count'])\n",
    "pivot_df.head()"
   ]
  },
  {
   "cell_type": "code",
   "execution_count": 58,
   "id": "72abfc76",
   "metadata": {},
   "outputs": [
    {
     "data": {
      "text/html": [
       "<div>\n",
       "<style scoped>\n",
       "    .dataframe tbody tr th:only-of-type {\n",
       "        vertical-align: middle;\n",
       "    }\n",
       "\n",
       "    .dataframe tbody tr th {\n",
       "        vertical-align: top;\n",
       "    }\n",
       "\n",
       "    .dataframe thead th {\n",
       "        text-align: right;\n",
       "    }\n",
       "</style>\n",
       "<table border=\"1\" class=\"dataframe\">\n",
       "  <thead>\n",
       "    <tr style=\"text-align: right;\">\n",
       "      <th></th>\n",
       "      <th>subscriber_sum</th>\n",
       "      <th>category_count</th>\n",
       "    </tr>\n",
       "    <tr>\n",
       "      <th>category</th>\n",
       "      <th></th>\n",
       "      <th></th>\n",
       "    </tr>\n",
       "  </thead>\n",
       "  <tbody>\n",
       "    <tr>\n",
       "      <th>[BJ/인물/연예인]</th>\n",
       "      <td>97640000</td>\n",
       "      <td>71</td>\n",
       "    </tr>\n",
       "    <tr>\n",
       "      <th>[IT/기술/컴퓨터]</th>\n",
       "      <td>7970000</td>\n",
       "      <td>8</td>\n",
       "    </tr>\n",
       "    <tr>\n",
       "      <th>[TV/방송]</th>\n",
       "      <td>229930000</td>\n",
       "      <td>146</td>\n",
       "    </tr>\n",
       "    <tr>\n",
       "      <th>[게임]</th>\n",
       "      <td>67190000</td>\n",
       "      <td>74</td>\n",
       "    </tr>\n",
       "    <tr>\n",
       "      <th>[교육/강의]</th>\n",
       "      <td>23450000</td>\n",
       "      <td>22</td>\n",
       "    </tr>\n",
       "  </tbody>\n",
       "</table>\n",
       "</div>"
      ],
      "text/plain": [
       "             subscriber_sum  category_count\n",
       "category                                   \n",
       "[BJ/인물/연예인]        97640000              71\n",
       "[IT/기술/컴퓨터]         7970000               8\n",
       "[TV/방송]           229930000             146\n",
       "[게임]               67190000              74\n",
       "[교육/강의]            23450000              22"
      ]
     },
     "execution_count": 58,
     "metadata": {},
     "output_type": "execute_result"
    }
   ],
   "source": [
    "pivot_df.columns = ['subscriber_sum', 'category_count']\n",
    "pivot_df.head()"
   ]
  },
  {
   "cell_type": "code",
   "execution_count": 59,
   "id": "5c5c6329",
   "metadata": {},
   "outputs": [
    {
     "data": {
      "text/html": [
       "<div>\n",
       "<style scoped>\n",
       "    .dataframe tbody tr th:only-of-type {\n",
       "        vertical-align: middle;\n",
       "    }\n",
       "\n",
       "    .dataframe tbody tr th {\n",
       "        vertical-align: top;\n",
       "    }\n",
       "\n",
       "    .dataframe thead th {\n",
       "        text-align: right;\n",
       "    }\n",
       "</style>\n",
       "<table border=\"1\" class=\"dataframe\">\n",
       "  <thead>\n",
       "    <tr style=\"text-align: right;\">\n",
       "      <th></th>\n",
       "      <th>category</th>\n",
       "      <th>subscriber_sum</th>\n",
       "      <th>category_count</th>\n",
       "    </tr>\n",
       "  </thead>\n",
       "  <tbody>\n",
       "    <tr>\n",
       "      <th>0</th>\n",
       "      <td>[BJ/인물/연예인]</td>\n",
       "      <td>97640000</td>\n",
       "      <td>71</td>\n",
       "    </tr>\n",
       "    <tr>\n",
       "      <th>1</th>\n",
       "      <td>[IT/기술/컴퓨터]</td>\n",
       "      <td>7970000</td>\n",
       "      <td>8</td>\n",
       "    </tr>\n",
       "    <tr>\n",
       "      <th>2</th>\n",
       "      <td>[TV/방송]</td>\n",
       "      <td>229930000</td>\n",
       "      <td>146</td>\n",
       "    </tr>\n",
       "    <tr>\n",
       "      <th>3</th>\n",
       "      <td>[게임]</td>\n",
       "      <td>67190000</td>\n",
       "      <td>74</td>\n",
       "    </tr>\n",
       "    <tr>\n",
       "      <th>4</th>\n",
       "      <td>[교육/강의]</td>\n",
       "      <td>23450000</td>\n",
       "      <td>22</td>\n",
       "    </tr>\n",
       "  </tbody>\n",
       "</table>\n",
       "</div>"
      ],
      "text/plain": [
       "      category  subscriber_sum  category_count\n",
       "0  [BJ/인물/연예인]        97640000              71\n",
       "1  [IT/기술/컴퓨터]         7970000               8\n",
       "2      [TV/방송]       229930000             146\n",
       "3         [게임]        67190000              74\n",
       "4      [교육/강의]        23450000              22"
      ]
     },
     "execution_count": 59,
     "metadata": {},
     "output_type": "execute_result"
    }
   ],
   "source": [
    "pivot_df = pivot_df.reset_index()\n",
    "pivot_df.head()"
   ]
  },
  {
   "cell_type": "code",
   "execution_count": 60,
   "id": "fa508674",
   "metadata": {},
   "outputs": [
    {
     "data": {
      "text/html": [
       "<div>\n",
       "<style scoped>\n",
       "    .dataframe tbody tr th:only-of-type {\n",
       "        vertical-align: middle;\n",
       "    }\n",
       "\n",
       "    .dataframe tbody tr th {\n",
       "        vertical-align: top;\n",
       "    }\n",
       "\n",
       "    .dataframe thead th {\n",
       "        text-align: right;\n",
       "    }\n",
       "</style>\n",
       "<table border=\"1\" class=\"dataframe\">\n",
       "  <thead>\n",
       "    <tr style=\"text-align: right;\">\n",
       "      <th></th>\n",
       "      <th>category</th>\n",
       "      <th>subscriber_sum</th>\n",
       "      <th>category_count</th>\n",
       "    </tr>\n",
       "  </thead>\n",
       "  <tbody>\n",
       "    <tr>\n",
       "      <th>12</th>\n",
       "      <td>[음악/댄스/가수]</td>\n",
       "      <td>674980000</td>\n",
       "      <td>171</td>\n",
       "    </tr>\n",
       "    <tr>\n",
       "      <th>17</th>\n",
       "      <td>[키즈/어린이]</td>\n",
       "      <td>257840000</td>\n",
       "      <td>88</td>\n",
       "    </tr>\n",
       "    <tr>\n",
       "      <th>2</th>\n",
       "      <td>[TV/방송]</td>\n",
       "      <td>229930000</td>\n",
       "      <td>146</td>\n",
       "    </tr>\n",
       "    <tr>\n",
       "      <th>11</th>\n",
       "      <td>[음식/요리/레시피]</td>\n",
       "      <td>180710000</td>\n",
       "      <td>85</td>\n",
       "    </tr>\n",
       "    <tr>\n",
       "      <th>7</th>\n",
       "      <td>[미분류]</td>\n",
       "      <td>143670000</td>\n",
       "      <td>114</td>\n",
       "    </tr>\n",
       "  </tbody>\n",
       "</table>\n",
       "</div>"
      ],
      "text/plain": [
       "       category  subscriber_sum  category_count\n",
       "12   [음악/댄스/가수]       674980000             171\n",
       "17     [키즈/어린이]       257840000              88\n",
       "2       [TV/방송]       229930000             146\n",
       "11  [음식/요리/레시피]       180710000              85\n",
       "7         [미분류]       143670000             114"
      ]
     },
     "execution_count": 60,
     "metadata": {},
     "output_type": "execute_result"
    }
   ],
   "source": [
    "pivot_df = pivot_df.sort_values(by='subscriber_sum', ascending=False)\n",
    "pivot_df.head()"
   ]
  },
  {
   "cell_type": "code",
   "execution_count": 61,
   "id": "a2e82329",
   "metadata": {},
   "outputs": [
    {
     "data": {
      "image/png": "[encoded data removed]",
      "text/plain": [
       "<Figure size 2160x720 with 1 Axes>"
      ]
     },
     "metadata": {},
     "output_type": "display_data"
    }
   ],
   "source": [
    "plt.figure(figsize = (30,10))\n",
    "plt.pie(pivot_df['subscriber_sum'], labels=pivot_df['category'], autopct='%1.1f%%')\n",
    "plt.show()"
   ]
  },
  {
   "cell_type": "code",
   "execution_count": 66,
   "id": "464a31e5",
   "metadata": {},
   "outputs": [
    {
     "data": {
      "image/png": "[encoded data removed]",
      "text/plain": [
       "<Figure size 2160x720 with 1 Axes>"
      ]
     },
     "metadata": {},
     "output_type": "display_data"
    }
   ],
   "source": [
    "pivot_df = pivot_df.sort_values(by='category_count', ascending=False)\n",
    "pivot_df.head()\n",
    "plt.figure(figsize = (30,10))\n",
    "plt.pie(pivot_df['category_count'], labels=pivot_df['category'], autopct='%1.1f%%')\n",
    "plt.show()"
   ]
  }
 ],
 "metadata": {
  "kernelspec": {
   "display_name": "Python 3",
   "language": "python",
   "name": "python3"
  },
  "language_info": {
   "codemirror_mode": {
    "name": "ipython",
    "version": 3
   },
   "file_extension": ".py",
   "mimetype": "text/x-python",
   "name": "python",
   "nbconvert_exporter": "python",
   "pygments_lexer": "ipython3",
   "version": "3.8.8"
  }
 },
 "nbformat": 4,
 "nbformat_minor": 5
}
