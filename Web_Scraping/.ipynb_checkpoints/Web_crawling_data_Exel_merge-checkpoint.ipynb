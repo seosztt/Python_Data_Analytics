{
 "cells": [
  {
   "cell_type": "code",
   "execution_count": 4,
   "id": "6ce1dd6e",
   "metadata": {},
   "outputs": [],
   "source": [
    "from selenium import webdriver\n",
    "from bs4 import BeautifulSoup\n",
    "\n",
    "driver=webdriver.Chrome('C:/Users/USER/python_Data_analytics/Web_Scraping/chromedriver/chromedriver.exe')"
   ]
  },
  {
   "cell_type": "code",
   "execution_count": 71,
   "id": "55ab210a",
   "metadata": {},
   "outputs": [],
   "source": [
    "url='https://www.melon.com/chart/index.htm'\n",
    "driver.get(url)"
   ]
  },
  {
   "cell_type": "code",
   "execution_count": 72,
   "id": "acfe8c3d",
   "metadata": {},
   "outputs": [],
   "source": [
    "html=driver.page_source\n",
    "soup = BeautifulSoup(html, 'html.parser')"
   ]
  },
  {
   "cell_type": "code",
   "execution_count": 73,
   "id": "b2e20181",
   "metadata": {},
   "outputs": [],
   "source": [
    "song_data=[]\n",
    "rank=1\n",
    "\n",
    "songs = soup.select('table > tbody > tr')\n",
    "for song in songs: \n",
    " title = song.select('div.rank01 > span > a')[0].text\n",
    " singer = song.select('div.rank02 > a')[0].text\n",
    " song_data.append(['Melon', rank, title, singer])\n",
    " rank = rank + 1"
   ]
  },
  {
   "cell_type": "code",
   "execution_count": 74,
   "id": "bc997f86",
   "metadata": {
    "scrolled": true
   },
   "outputs": [
    {
     "data": {
      "text/html": [
       "<div>\n",
       "<style scoped>\n",
       "    .dataframe tbody tr th:only-of-type {\n",
       "        vertical-align: middle;\n",
       "    }\n",
       "\n",
       "    .dataframe tbody tr th {\n",
       "        vertical-align: top;\n",
       "    }\n",
       "\n",
       "    .dataframe thead th {\n",
       "        text-align: right;\n",
       "    }\n",
       "</style>\n",
       "<table border=\"1\" class=\"dataframe\">\n",
       "  <thead>\n",
       "    <tr style=\"text-align: right;\">\n",
       "      <th></th>\n",
       "      <th>서비스</th>\n",
       "      <th>순위</th>\n",
       "      <th>타이틀</th>\n",
       "      <th>가수</th>\n",
       "    </tr>\n",
       "  </thead>\n",
       "  <tbody>\n",
       "    <tr>\n",
       "      <th>0</th>\n",
       "      <td>Melon</td>\n",
       "      <td>1</td>\n",
       "      <td>신호등</td>\n",
       "      <td>이무진</td>\n",
       "    </tr>\n",
       "    <tr>\n",
       "      <th>1</th>\n",
       "      <td>Melon</td>\n",
       "      <td>2</td>\n",
       "      <td>바라만 본다</td>\n",
       "      <td>MSG워너비(M.O.M)</td>\n",
       "    </tr>\n",
       "    <tr>\n",
       "      <th>2</th>\n",
       "      <td>Melon</td>\n",
       "      <td>3</td>\n",
       "      <td>Next Level</td>\n",
       "      <td>aespa</td>\n",
       "    </tr>\n",
       "    <tr>\n",
       "      <th>3</th>\n",
       "      <td>Melon</td>\n",
       "      <td>4</td>\n",
       "      <td>낙하 (with 아이유)</td>\n",
       "      <td>AKMU (악뮤)</td>\n",
       "    </tr>\n",
       "    <tr>\n",
       "      <th>4</th>\n",
       "      <td>Melon</td>\n",
       "      <td>5</td>\n",
       "      <td>Permission to Dance</td>\n",
       "      <td>방탄소년단</td>\n",
       "    </tr>\n",
       "  </tbody>\n",
       "</table>\n",
       "</div>"
      ],
      "text/plain": [
       "     서비스  순위                  타이틀             가수\n",
       "0  Melon   1                  신호등            이무진\n",
       "1  Melon   2               바라만 본다  MSG워너비(M.O.M)\n",
       "2  Melon   3           Next Level          aespa\n",
       "3  Melon   4        낙하 (with 아이유)      AKMU (악뮤)\n",
       "4  Melon   5  Permission to Dance          방탄소년단"
      ]
     },
     "execution_count": 74,
     "metadata": {},
     "output_type": "execute_result"
    }
   ],
   "source": [
    "import pandas as pd\n",
    "columns = ['서비스', '순위', '타이틀', '가수']\n",
    "pd_data = pd.DataFrame(song_data, columns = columns)\n",
    "pd_data.head()"
   ]
  },
  {
   "cell_type": "code",
   "execution_count": 75,
   "id": "03113145",
   "metadata": {},
   "outputs": [],
   "source": [
    "pd_data.to_excel('C:/Users/USER/python_Data_analytics/melon.xlsx', index=False)"
   ]
  },
  {
   "cell_type": "code",
   "execution_count": 76,
   "id": "e0c7511d",
   "metadata": {},
   "outputs": [],
   "source": [
    "driver.get('https://music.bugs.co.kr/chart')"
   ]
  },
  {
   "cell_type": "code",
   "execution_count": 77,
   "id": "05587396",
   "metadata": {},
   "outputs": [],
   "source": [
    "html=driver.page_source\n",
    "soup = BeautifulSoup(html, 'html.parser')"
   ]
  },
  {
   "cell_type": "code",
   "execution_count": 78,
   "id": "4bec66de",
   "metadata": {
    "scrolled": true
   },
   "outputs": [],
   "source": [
    "song_data=[]\n",
    "rank=1\n",
    "\n",
    "for song in soup.select('table.byChart > tbody > tr'):\n",
    "    title=song.select('p.title > a')[0].text\n",
    "    singer=song.select('p.artist > a')[0].text\n",
    "    song_data.append(['Bugs',rank,title,singer])\n",
    "    rank+=1"
   ]
  },
  {
   "cell_type": "code",
   "execution_count": 62,
   "id": "6d48a9e8",
   "metadata": {
    "collapsed": true
   },
   "outputs": [
    {
     "data": {
      "text/plain": [
       "[['Bugs', 1, '회상', '정경호'],\n",
       " ['Bugs', 2, 'Queendom', 'Red Velvet (레드벨벳)'],\n",
       " ['Bugs', 3, 'DUMB DUMB', '전소미'],\n",
       " ['Bugs', 4, 'STAY', 'The Kid LAROI'],\n",
       " ['Bugs', 5, '낙하 (with 아이유)', 'AKMU(악뮤)'],\n",
       " ['Bugs', 6, '사진을 보다가', '다비치'],\n",
       " ['Bugs', 7, 'Next Level', 'aespa'],\n",
       " ['Bugs', 8, '신호등', '이무진'],\n",
       " ['Bugs', 9, 'Weekend', '태연 (TAEYEON)'],\n",
       " ['Bugs', 10, 'Permission to Dance', '방탄소년단'],\n",
       " ['Bugs', 11, '비가 오는 날엔 (2021)', '헤이즈(Heize)'],\n",
       " ['Bugs', 12, 'Bad Habits', 'Ed Sheeran(에드 시런)'],\n",
       " ['Bugs', 13, '여전히 아름다운지', '세븐틴(SEVENTEEN)'],\n",
       " ['Bugs', 14, 'Visiting Hours', 'Ed Sheeran(에드 시런)'],\n",
       " ['Bugs', 15, '바라만 본다', 'MSG워너비(M.O.M)'],\n",
       " ['Bugs', 16, 'Butter', '방탄소년단'],\n",
       " ['Bugs', 17, '고백', '10CM'],\n",
       " ['Bugs', 18, '좋아좋아', '조정석'],\n",
       " ['Bugs', 19, '둘 중에 골라 (Summer or Summer)', '효린'],\n",
       " ['Bugs', 20, '너에게', '유연석'],\n",
       " ['Bugs', 21, 'Alcohol-Free', 'TWICE (트와이스)'],\n",
       " ['Bugs', 22, 'OHAYO MY NIGHT', '디핵(D-Hack)'],\n",
       " ['Bugs', 23, \"You can't sit with us\", '선미'],\n",
       " ['Bugs', 24, 'Dun Dun Dance', '오마이걸(OH MY GIRL)'],\n",
       " ['Bugs', 25, 'Leave Before You Love Me', 'Marshmello(마시멜로)'],\n",
       " ['Bugs', 26, 'Black Mamba', 'aespa'],\n",
       " ['Bugs',\n",
       "  27,\n",
       "  'Peaches (feat. Daniel Caesar, Giveon)',\n",
       "  'Justin Bieber(저스틴 비버)'],\n",
       " ['Bugs', 28, '벌써 일년 (Drama Ver.)', '미도와 파라솔'],\n",
       " ['Bugs', 29, \"롤린 (Rollin')\", '브레이브걸스(Brave Girls)'],\n",
       " ['Bugs', 30, '이젠 잊기로 해요 (Drama Ver.)', '미도와 파라솔'],\n",
       " ['Bugs', 31, '전쟁터 (with 이선희)', 'AKMU(악뮤)'],\n",
       " ['Bugs', 32, 'ASAP', 'STAYC(스테이씨)'],\n",
       " ['Bugs', 33, '고백', '장범준'],\n",
       " ['Bugs', 34, '상상더하기', '라붐(LABOUM)'],\n",
       " ['Bugs', 35, '헤픈 우연', '헤이즈(Heize)'],\n",
       " ['Bugs', 36, '비와 당신', '이무진'],\n",
       " ['Bugs', 37, '라일락', '아이유(IU)'],\n",
       " ['Bugs', 38, '치맛바람 (Chi Mat Ba Ram)', '브레이브걸스(Brave Girls)'],\n",
       " ['Bugs', 39, 'Off My Face', 'Justin Bieber(저스틴 비버)'],\n",
       " ['Bugs', 40, '슈퍼스타', '미도와 파라솔'],\n",
       " ['Bugs', 41, '운전만해 (We Ride)', '브레이브걸스(Brave Girls)'],\n",
       " ['Bugs', 42, '다정히 내 이름을 부르면', '경서예지'],\n",
       " ['Bugs', 43, 'Knock On Wood', 'Red Velvet (레드벨벳)'],\n",
       " ['Bugs', 44, '제자리 걸음', 'V.O.S.'],\n",
       " ['Bugs', 45, 'Celebrity', '아이유(IU)'],\n",
       " ['Bugs', 46, '비 오는 날 듣기 좋은 노래 (Feat. Colde)', '에픽하이 (EPIK HIGH)'],\n",
       " ['Bugs', 47, '가을 우체국 앞에서', '김대명'],\n",
       " ['Bugs', 48, 'Dynamite', '방탄소년단'],\n",
       " ['Bugs', 49, '도망가자 (Run With Me)', '선우정아(Sunwoojunga)'],\n",
       " ['Bugs', 50, 'Kiss Me More (feat. SZA)', 'Doja Cat(도자 캣)'],\n",
       " ['Bugs', 51, 'THRILL RIDE', '더보이즈(THE BOYZ)'],\n",
       " ['Bugs', 52, \"I'm Gonna Love You (Feat. 원슈타인)\", '디오 (D.O.)'],\n",
       " ['Bugs', 53, 'Stupid love song (with Crush)', 'AKMU(악뮤)'],\n",
       " ['Bugs', 54, '하루만 더', '빅마마(Big Mama)'],\n",
       " ['Bugs', 55, 'Lovesick Girls', 'BLACKPINK'],\n",
       " ['Bugs', 56, 'Loving You Girl (feat. Hkeem)', 'Peder Elias'],\n",
       " ['Bugs', 57, '안녕 (Hello)', '조이 (JOY)'],\n",
       " ['Bugs', 58, '뚫고 지나가요', 'DAY6 (Even of Day)'],\n",
       " ['Bugs', 59, '사랑하니까 (2021)', '이보람 (씨야)'],\n",
       " ['Bugs', 60, 'parachute', 'John K'],\n",
       " ['Bugs', 61, '어푸 (Ah puh)', '아이유(IU)'],\n",
       " ['Bugs', 62, '내 손을 잡아', '아이유(IU)'],\n",
       " ['Bugs', 63, 'Pose', 'Red Velvet (레드벨벳)'],\n",
       " ['Bugs', 64, 'Timeless', 'SG워너비'],\n",
       " ['Bugs', 65, 'LO$ER=LO♡ER', '투모로우바이투게더'],\n",
       " ['Bugs', 66, '다시, 여름 (Hello, Sunset)', 'Red Velvet (레드벨벳)'],\n",
       " ['Bugs', 67, '밤이 되니까', '원슈타인'],\n",
       " ['Bugs', 68, 'Blueming', '아이유(IU)'],\n",
       " ['Bugs', 69, 'BENCH (with Zion.T)', 'AKMU(악뮤)'],\n",
       " ['Bugs', 70, '흔들리는 꽃들 속에서 네 샴푸향이 느껴진거야', '장범준'],\n",
       " ['Bugs', 71, '째깍 째깍 째깍 (with Beenzino)', 'AKMU(악뮤)'],\n",
       " ['Bugs', 72, '넌 좋은 사람', 'SG워너비'],\n",
       " ['Bugs', 73, '나는 너 좋아', '장범준'],\n",
       " ['Bugs', 74, 'WE GO', '프로미스나인'],\n",
       " ['Bugs', 75, '자니', '하성운X펀치(Punch)'],\n",
       " ['Bugs', 76, '에잇(Prod.&Feat. SUGA of BTS)', '아이유(IU)'],\n",
       " ['Bugs', 77, '보고 싶단 말이야', '펀치 (Punch)'],\n",
       " ['Bugs', 78, 'Leave The Door Open', 'Bruno Mars(브루노 마스)'],\n",
       " ['Bugs', 79, \"Pushin' N Pullin'\", 'Red Velvet (레드벨벳)'],\n",
       " ['Bugs', 80, '작은 것들을 위한 시 (Boy With Luv) (Feat. Halsey)', '방탄소년단'],\n",
       " ['Bugs', 81, '외딴섬 로맨틱', '잔나비'],\n",
       " ['Bugs', 82, 'Better Be', 'Red Velvet (레드벨벳)'],\n",
       " ['Bugs', 83, '추적이는 여름 비가 되어', '장범준'],\n",
       " ['Bugs',\n",
       "  84,\n",
       "  'A Little Space (feat. YUNHO, SAN, JONGHO of ATEEZ)',\n",
       "  'Pentatonix(펜타토닉스)'],\n",
       " ['Bugs', 85, 'Savage Love (Laxed - Siren Beat) (BTS Remix)', 'Jawsh 685'],\n",
       " ['Bugs', 86, 'Dolphin', '오마이걸(OH MY GIRL)'],\n",
       " ['Bugs', 87, '나를 아는 사람', 'MSG워너비(정상동기)'],\n",
       " ['Bugs', 88, '어떻게 이별까지 사랑하겠어, 널 사랑하는 거지', 'AKMU(악뮤)'],\n",
       " ['Bugs', 89, '마.피.아. In the morning', 'ITZY (있지)'],\n",
       " ['Bugs', 90, 'Save Your Tears (Remix)', 'The Weeknd(위켄드)'],\n",
       " ['Bugs', 91, '사이렌 Remix (Feat. UNEDUCATED KID, Paul Blanco)', '호미들'],\n",
       " ['Bugs', 92, 'Life Goes On', '방탄소년단'],\n",
       " ['Bugs', 93, '다정한 봄에게', '온유 (ONEW)'],\n",
       " ['Bugs', 94, 'Second (Feat. 비비 (BIBI))', '효연 (HYO)'],\n",
       " ['Bugs', 95, '허리춤', '오반 (OVAN)'],\n",
       " ['Bugs', 96, 'Coin', '아이유(IU)'],\n",
       " ['Bugs', 97, 'SUNNY', '선미'],\n",
       " ['Bugs', 98, 'EVEREST (with Sam Kim) ', 'AKMU(악뮤)'],\n",
       " ['Bugs', 99, 'Tiny Riot', 'Sam Ryder'],\n",
       " ['Bugs', 100, '은하수를 닮은 너에게 (Feat.몰리디)', '경서예지']]"
      ]
     },
     "execution_count": 62,
     "metadata": {},
     "output_type": "execute_result"
    }
   ],
   "source": [
    "song_data"
   ]
  },
  {
   "cell_type": "code",
   "execution_count": 79,
   "id": "c80cefd8",
   "metadata": {},
   "outputs": [
    {
     "data": {
      "text/html": [
       "<div>\n",
       "<style scoped>\n",
       "    .dataframe tbody tr th:only-of-type {\n",
       "        vertical-align: middle;\n",
       "    }\n",
       "\n",
       "    .dataframe tbody tr th {\n",
       "        vertical-align: top;\n",
       "    }\n",
       "\n",
       "    .dataframe thead th {\n",
       "        text-align: right;\n",
       "    }\n",
       "</style>\n",
       "<table border=\"1\" class=\"dataframe\">\n",
       "  <thead>\n",
       "    <tr style=\"text-align: right;\">\n",
       "      <th></th>\n",
       "      <th>서비스</th>\n",
       "      <th>순위</th>\n",
       "      <th>타이틀</th>\n",
       "      <th>가수</th>\n",
       "    </tr>\n",
       "  </thead>\n",
       "  <tbody>\n",
       "    <tr>\n",
       "      <th>0</th>\n",
       "      <td>Bugs</td>\n",
       "      <td>1</td>\n",
       "      <td>회상</td>\n",
       "      <td>정경호</td>\n",
       "    </tr>\n",
       "    <tr>\n",
       "      <th>1</th>\n",
       "      <td>Bugs</td>\n",
       "      <td>2</td>\n",
       "      <td>Queendom</td>\n",
       "      <td>Red Velvet (레드벨벳)</td>\n",
       "    </tr>\n",
       "    <tr>\n",
       "      <th>2</th>\n",
       "      <td>Bugs</td>\n",
       "      <td>3</td>\n",
       "      <td>DUMB DUMB</td>\n",
       "      <td>전소미</td>\n",
       "    </tr>\n",
       "    <tr>\n",
       "      <th>3</th>\n",
       "      <td>Bugs</td>\n",
       "      <td>4</td>\n",
       "      <td>STAY</td>\n",
       "      <td>The Kid LAROI</td>\n",
       "    </tr>\n",
       "    <tr>\n",
       "      <th>4</th>\n",
       "      <td>Bugs</td>\n",
       "      <td>5</td>\n",
       "      <td>낙하 (with 아이유)</td>\n",
       "      <td>AKMU(악뮤)</td>\n",
       "    </tr>\n",
       "  </tbody>\n",
       "</table>\n",
       "</div>"
      ],
      "text/plain": [
       "    서비스  순위            타이틀                 가수\n",
       "0  Bugs   1             회상                정경호\n",
       "1  Bugs   2       Queendom  Red Velvet (레드벨벳)\n",
       "2  Bugs   3      DUMB DUMB                전소미\n",
       "3  Bugs   4           STAY      The Kid LAROI\n",
       "4  Bugs   5  낙하 (with 아이유)           AKMU(악뮤)"
      ]
     },
     "execution_count": 79,
     "metadata": {},
     "output_type": "execute_result"
    }
   ],
   "source": [
    "columns = ['서비스', '순위', '타이틀', '가수']\n",
    "pd_data = pd.DataFrame(song_data, columns = columns)\n",
    "pd_data.head()"
   ]
  },
  {
   "cell_type": "code",
   "execution_count": 80,
   "id": "671d2a53",
   "metadata": {},
   "outputs": [],
   "source": [
    "pd_data.to_excel('C:/Users/USER/python_Data_analytics/bugs.xlsx', index=False)"
   ]
  },
  {
   "cell_type": "code",
   "execution_count": 81,
   "id": "4146a55c",
   "metadata": {},
   "outputs": [],
   "source": [
    "url = 'https://www.genie.co.kr/chart/top200'\n",
    "driver.get(url)\n",
    "html = driver.page_source\n",
    "soup = BeautifulSoup(html, 'html.parser')\n",
    "song_data = []\n",
    "rank = 1\n",
    "songs = soup.select('tbody > tr') \n",
    "for song in songs:\n",
    " title = song.select('a.title')[0].text.strip() \n",
    " singer = song.select('a.artist')[0].text\n",
    " song_data.append(['Genie', rank, title, singer]) \n",
    " rank = rank + 1\n",
    "columns = ['서비스', '순위', '타이틀', '가수']\n",
    "pd_data = pd.DataFrame(song_data, columns = columns)\n",
    "pd_data.to_excel('C:/Users/USER/python_Data_analytics/genie.xlsx', index=False)"
   ]
  },
  {
   "cell_type": "code",
   "execution_count": 83,
   "id": "95b57a26",
   "metadata": {},
   "outputs": [],
   "source": [
    "excel_names = ['C:/Users/USER/python_Data_analytics/melon.xlsx', 'C:/Users/USER/python_Data_analytics/bugs.xlsx', 'C:/Users/USER/python_Data_analytics/genie.xlsx']\n",
    "appended_data = pd.DataFrame()\n",
    "for name in excel_names:\n",
    " pd_data = pd.read_excel(name)\n",
    " appended_data = appended_data.append(pd_data)\n",
    "appended_data.to_excel('C:/Users/USER/python_Data_analytics/total.xlsx', index=False)"
   ]
  }
 ],
 "metadata": {
  "kernelspec": {
   "display_name": "Python 3",
   "language": "python",
   "name": "python3"
  },
  "language_info": {
   "codemirror_mode": {
    "name": "ipython",
    "version": 3
   },
   "file_extension": ".py",
   "mimetype": "text/x-python",
   "name": "python",
   "nbconvert_exporter": "python",
   "pygments_lexer": "ipython3",
   "version": "3.8.8"
  }
 },
 "nbformat": 4,
 "nbformat_minor": 5
}
