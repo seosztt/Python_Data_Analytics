{
 "cells": [
  {
   "cell_type": "code",
   "execution_count": 1,
   "id": "c89ec8ba",
   "metadata": {},
   "outputs": [],
   "source": [
    "import urllib.request as req"
   ]
  },
  {
   "cell_type": "code",
   "execution_count": 2,
   "id": "0764b43e",
   "metadata": {},
   "outputs": [],
   "source": [
    "img_url=\"http://post.phinf.naver.net/20160621_169/1466482468068lmSHj_JPEG/If7GeIbOPZuYwI-GI3xU7ENRrlfI.jpg\"\n",
    "html_url=\"http://google.com\""
   ]
  },
  {
   "cell_type": "code",
   "execution_count": 3,
   "id": "ab11b545",
   "metadata": {},
   "outputs": [],
   "source": [
    "save_path1=\"C:\\\\Users\\\\USER\\\\python_Data_analytics\\\\Web_Scraping\\\\test1.jpg\"\n",
    "save_path2=\"C:\\\\Users\\\\USER\\\\python_Data_analytics\\\\Web_Scraping\\\\index.html\""
   ]
  },
  {
   "cell_type": "code",
   "execution_count": 4,
   "id": "0dbc3f41",
   "metadata": {},
   "outputs": [
    {
     "name": "stdout",
     "output_type": "stream",
     "text": [
      "Date: Wed, 18 Aug 2021 04:40:15 GMT\n",
      "Accept-Ranges: bytes\n",
      "Cache-Control: max-age=15552000\n",
      "Content-Length: 797094\n",
      "Content-Type: image/jpeg\n",
      "Last-Modified: Wed, 18 Aug 2021 00:07:20 GMT\n",
      "p3p: CP=\"ALL CURa ADMa DEVa TAIa OUR BUS IND PHY ONL UNI PUR FIN COM NAV INT DEM CNT STA POL HEA PRE LOC OTC\"\n",
      "Age: 16375\n",
      "Expires: Mon, 14 Feb 2022 00:07:20 GMT\n",
      "Connection: close\n",
      "\n",
      "\n",
      "Date: Wed, 18 Aug 2021 04:40:16 GMT\n",
      "Expires: -1\n",
      "Cache-Control: private, max-age=0\n",
      "Content-Type: text/html; charset=ISO-8859-1\n",
      "P3P: CP=\"This is not a P3P policy! See g.co/p3phelp for more info.\"\n",
      "Server: gws\n",
      "X-XSS-Protection: 0\n",
      "X-Frame-Options: SAMEORIGIN\n",
      "Set-Cookie: 1P_JAR=2021-08-18-04; expires=Fri, 17-Sep-2021 04:40:16 GMT; path=/; domain=.google.com; Secure\n",
      "Set-Cookie: NID=221=JBqfYZfHCvbWo9mKxDZT_2QbPRBgSUui1f4aJ0nO9lZmCeUD9a_lXQFaXrKZfbNWfN_3sulnEATFzalVXajNdOfNaJp0Lnr4jU0FU8nAoAA29OaYI3eulb7ZkVwyWc2XNt-vmcdNXnnpKFRCBIDyzmVvObOVDUk6ndUusaMsHM8; expires=Thu, 17-Feb-2022 04:40:16 GMT; path=/; domain=.google.com; HttpOnly\n",
      "Accept-Ranges: none\n",
      "Vary: Accept-Encoding\n",
      "Connection: close\n",
      "Transfer-Encoding: chunked\n",
      "\n",
      "\n"
     ]
    }
   ],
   "source": [
    "try:\n",
    "    file1, header1=req.urlretrieve(img_url, save_path1)\n",
    "    file2, header2=req.urlretrieve(html_url, save_path2)\n",
    "except Exception as e:\n",
    "    print(\"Download failed\")\n",
    "    print(e)\n",
    "else:\n",
    "    print(header1)\n",
    "    print(header2)"
   ]
  },
  {
   "cell_type": "code",
   "execution_count": 5,
   "id": "4e0cb1c3",
   "metadata": {
    "scrolled": true
   },
   "outputs": [
    {
     "name": "stdout",
     "output_type": "stream",
     "text": [
      "Filename1:C:\\Users\\USER\\python_Data_analytics\\Web_Scraping\\test1.jpg\n",
      "Filename1:C:\\Users\\USER\\python_Data_analytics\\Web_Scraping\\index.html\n",
      "\n"
     ]
    }
   ],
   "source": [
    "print(\"Filename1:{}\".format(file1))\n",
    "print(\"Filename1:{}\".format(file2))\n",
    "print()"
   ]
  },
  {
   "cell_type": "code",
   "execution_count": null,
   "id": "62db17bf",
   "metadata": {},
   "outputs": [],
   "source": []
  }
 ],
 "metadata": {
  "kernelspec": {
   "display_name": "Python 3",
   "language": "python",
   "name": "python3"
  },
  "language_info": {
   "codemirror_mode": {
    "name": "ipython",
    "version": 3
   },
   "file_extension": ".py",
   "mimetype": "text/x-python",
   "name": "python",
   "nbconvert_exporter": "python",
   "pygments_lexer": "ipython3",
   "version": "3.8.8"
  }
 },
 "nbformat": 4,
 "nbformat_minor": 5
}
