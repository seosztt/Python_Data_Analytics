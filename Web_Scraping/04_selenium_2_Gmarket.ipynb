{
 "cells": [
  {
   "cell_type": "code",
   "execution_count": 2,
   "id": "ba2373b1",
   "metadata": {},
   "outputs": [
    {
     "name": "stdout",
     "output_type": "stream",
     "text": [
      "Requirement already satisfied: selenium in c:\\programdata\\anaconda3\\lib\\site-packages (3.141.0)\n",
      "Requirement already satisfied: urllib3 in c:\\programdata\\anaconda3\\lib\\site-packages (from selenium) (1.26.4)\n"
     ]
    }
   ],
   "source": [
    "!pip install selenium"
   ]
  },
  {
   "cell_type": "code",
   "execution_count": 3,
   "id": "e57a8316",
   "metadata": {},
   "outputs": [],
   "source": [
    "import requests\n",
    "from selenium import webdriver\n",
    "import time"
   ]
  },
  {
   "cell_type": "code",
   "execution_count": 4,
   "id": "4301faeb",
   "metadata": {},
   "outputs": [],
   "source": [
    "driver=webdriver.Chrome('C:/Users/USER/python_Data_analytics/Web_Scraping/chromedriver/chromedriver.exe')\n",
    "url = \"http://corners.gmarket.co.kr/Bestsellers\"\n",
    "driver.get(url)"
   ]
  },
  {
   "cell_type": "code",
   "execution_count": 5,
   "id": "428b5c4e",
   "metadata": {},
   "outputs": [
    {
     "data": {
      "text/plain": [
       "200"
      ]
     },
     "execution_count": 5,
     "metadata": {},
     "output_type": "execute_result"
    }
   ],
   "source": [
    "items = driver.find_elements_by_css_selector(\".best-list:nth-child(3) > ul > li\")\n",
    "len(items)"
   ]
  },
  {
   "cell_type": "code",
   "execution_count": 6,
   "id": "26a2f88e",
   "metadata": {},
   "outputs": [],
   "source": [
    "dict_list = []\n",
    "for item in items:\n",
    " title = item.find_element_by_css_selector(\".itemname\").text\n",
    " link = item.find_element_by_css_selector(\".itemname\").get_attribute(\"href\")\n",
    " o_price = item.find_element_by_css_selector(\".o-price\").text[:-1]\n",
    " s_price = item.find_element_by_css_selector(\".s-price\").text.split(\" \")[0][:-1]\n",
    " data = {\n",
    " \"title\": title,\n",
    " \"link\": link,\n",
    " \"o_price\": o_price,\n",
    " \"s_price\": s_price,\n",
    " }\n",
    " dict_list.append(data)"
   ]
  },
  {
   "cell_type": "code",
   "execution_count": 7,
   "id": "13f3a145",
   "metadata": {},
   "outputs": [],
   "source": [
    "driver.quit()"
   ]
  },
  {
   "cell_type": "code",
   "execution_count": 8,
   "id": "3b70ecca",
   "metadata": {},
   "outputs": [],
   "source": [
    "import pandas as pd"
   ]
  },
  {
   "cell_type": "code",
   "execution_count": 9,
   "id": "94e5c87a",
   "metadata": {},
   "outputs": [
    {
     "data": {
      "text/html": [
       "<div>\n",
       "<style scoped>\n",
       "    .dataframe tbody tr th:only-of-type {\n",
       "        vertical-align: middle;\n",
       "    }\n",
       "\n",
       "    .dataframe tbody tr th {\n",
       "        vertical-align: top;\n",
       "    }\n",
       "\n",
       "    .dataframe thead th {\n",
       "        text-align: right;\n",
       "    }\n",
       "</style>\n",
       "<table border=\"1\" class=\"dataframe\">\n",
       "  <thead>\n",
       "    <tr style=\"text-align: right;\">\n",
       "      <th></th>\n",
       "      <th>title</th>\n",
       "      <th>link</th>\n",
       "      <th>o_price</th>\n",
       "      <th>s_price</th>\n",
       "    </tr>\n",
       "  </thead>\n",
       "  <tbody>\n",
       "    <tr>\n",
       "      <th>195</th>\n",
       "      <td>[베베앙]베베앙 아기물티슈 시그니처 대용량 100매 캡형 10팩</td>\n",
       "      <td>http://item.gmarket.co.kr/Item?goodscode=16044...</td>\n",
       "      <td>23,800</td>\n",
       "      <td>11,900</td>\n",
       "    </tr>\n",
       "    <tr>\n",
       "      <th>196</th>\n",
       "      <td>[페리오]어린이칫솔 쿠폰가13530원 2단계핑크퐁칫솔20입+사은품</td>\n",
       "      <td>http://item.gmarket.co.kr/Item?goodscode=17038...</td>\n",
       "      <td>20,100</td>\n",
       "      <td>17,900</td>\n",
       "    </tr>\n",
       "    <tr>\n",
       "      <th>197</th>\n",
       "      <td>수퍼맘스토리카페/재밌고 기억하기 쉽게 가르쳐주는/미국초등수학교과서/맥그로힐/McGr...</td>\n",
       "      <td>http://item.gmarket.co.kr/Item?goodscode=21923...</td>\n",
       "      <td>68,000</td>\n",
       "      <td>48,800</td>\n",
       "    </tr>\n",
       "    <tr>\n",
       "      <th>198</th>\n",
       "      <td>[구글플레이](카드가능) 기프트코드 20만원 / 구글 기프트카드</td>\n",
       "      <td>http://item.gmarket.co.kr/Item?goodscode=16552...</td>\n",
       "      <td>200,000</td>\n",
       "      <td>190,000</td>\n",
       "    </tr>\n",
       "    <tr>\n",
       "      <th>199</th>\n",
       "      <td>[매일유업]매일두유 99.9 190ml 48팩</td>\n",
       "      <td>http://item.gmarket.co.kr/Item?goodscode=15900...</td>\n",
       "      <td>28,900</td>\n",
       "      <td>22,500</td>\n",
       "    </tr>\n",
       "  </tbody>\n",
       "</table>\n",
       "</div>"
      ],
      "text/plain": [
       "                                                 title  \\\n",
       "195                [베베앙]베베앙 아기물티슈 시그니처 대용량 100매 캡형 10팩   \n",
       "196               [페리오]어린이칫솔 쿠폰가13530원 2단계핑크퐁칫솔20입+사은품   \n",
       "197  수퍼맘스토리카페/재밌고 기억하기 쉽게 가르쳐주는/미국초등수학교과서/맥그로힐/McGr...   \n",
       "198                [구글플레이](카드가능) 기프트코드 20만원 / 구글 기프트카드   \n",
       "199                          [매일유업]매일두유 99.9 190ml 48팩   \n",
       "\n",
       "                                                  link  o_price  s_price  \n",
       "195  http://item.gmarket.co.kr/Item?goodscode=16044...   23,800   11,900  \n",
       "196  http://item.gmarket.co.kr/Item?goodscode=17038...   20,100   17,900  \n",
       "197  http://item.gmarket.co.kr/Item?goodscode=21923...   68,000   48,800  \n",
       "198  http://item.gmarket.co.kr/Item?goodscode=16552...  200,000  190,000  \n",
       "199  http://item.gmarket.co.kr/Item?goodscode=15900...   28,900   22,500  "
      ]
     },
     "execution_count": 9,
     "metadata": {},
     "output_type": "execute_result"
    }
   ],
   "source": [
    "df = pd.DataFrame(dict_list)\n",
    "df.tail()"
   ]
  },
  {
   "cell_type": "code",
   "execution_count": 10,
   "id": "d4bc0e7d",
   "metadata": {},
   "outputs": [],
   "source": [
    "nodata_indexs = df[\"o_price\"] == \"\""
   ]
  },
  {
   "cell_type": "code",
   "execution_count": 11,
   "id": "918bf2c5",
   "metadata": {},
   "outputs": [
    {
     "data": {
      "text/plain": [
       "184    \n",
       "188    \n",
       "190    \n",
       "191    \n",
       "194    \n",
       "Name: o_price, dtype: object"
      ]
     },
     "execution_count": 11,
     "metadata": {},
     "output_type": "execute_result"
    }
   ],
   "source": [
    "df[\"o_price\"][nodata_indexs].tail()"
   ]
  },
  {
   "cell_type": "code",
   "execution_count": 12,
   "id": "4b6c7cf7",
   "metadata": {},
   "outputs": [
    {
     "data": {
      "text/plain": [
       "184     56,500\n",
       "188      5,990\n",
       "190     30,900\n",
       "191    149,000\n",
       "194     19,900\n",
       "Name: s_price, dtype: object"
      ]
     },
     "execution_count": 12,
     "metadata": {},
     "output_type": "execute_result"
    }
   ],
   "source": [
    "df[\"s_price\"][nodata_indexs].tail()"
   ]
  },
  {
   "cell_type": "code",
   "execution_count": 13,
   "id": "dd61c139",
   "metadata": {},
   "outputs": [
    {
     "data": {
      "text/html": [
       "<div>\n",
       "<style scoped>\n",
       "    .dataframe tbody tr th:only-of-type {\n",
       "        vertical-align: middle;\n",
       "    }\n",
       "\n",
       "    .dataframe tbody tr th {\n",
       "        vertical-align: top;\n",
       "    }\n",
       "\n",
       "    .dataframe thead th {\n",
       "        text-align: right;\n",
       "    }\n",
       "</style>\n",
       "<table border=\"1\" class=\"dataframe\">\n",
       "  <thead>\n",
       "    <tr style=\"text-align: right;\">\n",
       "      <th></th>\n",
       "      <th>title</th>\n",
       "      <th>link</th>\n",
       "      <th>o_price</th>\n",
       "      <th>s_price</th>\n",
       "    </tr>\n",
       "  </thead>\n",
       "  <tbody>\n",
       "    <tr>\n",
       "      <th>184</th>\n",
       "      <td>윤쌀 10kg+10kg 쌀 20년산 (박스 포장)</td>\n",
       "      <td>http://item.gmarket.co.kr/Item?goodscode=18505...</td>\n",
       "      <td></td>\n",
       "      <td>56,500</td>\n",
       "    </tr>\n",
       "    <tr>\n",
       "      <th>188</th>\n",
       "      <td>(전단상품)온가족닭볶음탕용 1.2kg 팩</td>\n",
       "      <td>http://item.gmarket.co.kr/Item?goodscode=20446...</td>\n",
       "      <td></td>\n",
       "      <td>5,990</td>\n",
       "    </tr>\n",
       "    <tr>\n",
       "      <th>190</th>\n",
       "      <td>비비고 만두 총 10팩(왕교자X2+김치왕교자X2+매운왕교자X2+고기만두X2+김치만</td>\n",
       "      <td>http://item.gmarket.co.kr/Item?goodscode=21251...</td>\n",
       "      <td></td>\n",
       "      <td>30,900</td>\n",
       "    </tr>\n",
       "    <tr>\n",
       "      <th>191</th>\n",
       "      <td>[삼성전자]7%할인 갤럭시버즈2+케이스+CU8천원+경품EVENT</td>\n",
       "      <td>http://item.gmarket.co.kr/Item?goodscode=21898...</td>\n",
       "      <td></td>\n",
       "      <td>149,000</td>\n",
       "    </tr>\n",
       "    <tr>\n",
       "      <th>194</th>\n",
       "      <td>향긋한 여름 털복숭아 4.5kg/20과내외</td>\n",
       "      <td>http://item.gmarket.co.kr/Item?goodscode=21607...</td>\n",
       "      <td></td>\n",
       "      <td>19,900</td>\n",
       "    </tr>\n",
       "  </tbody>\n",
       "</table>\n",
       "</div>"
      ],
      "text/plain": [
       "                                             title  \\\n",
       "184                    윤쌀 10kg+10kg 쌀 20년산 (박스 포장)   \n",
       "188                         (전단상품)온가족닭볶음탕용 1.2kg 팩   \n",
       "190  비비고 만두 총 10팩(왕교자X2+김치왕교자X2+매운왕교자X2+고기만두X2+김치만   \n",
       "191            [삼성전자]7%할인 갤럭시버즈2+케이스+CU8천원+경품EVENT   \n",
       "194                        향긋한 여름 털복숭아 4.5kg/20과내외   \n",
       "\n",
       "                                                  link o_price  s_price  \n",
       "184  http://item.gmarket.co.kr/Item?goodscode=18505...           56,500  \n",
       "188  http://item.gmarket.co.kr/Item?goodscode=20446...            5,990  \n",
       "190  http://item.gmarket.co.kr/Item?goodscode=21251...           30,900  \n",
       "191  http://item.gmarket.co.kr/Item?goodscode=21898...          149,000  \n",
       "194  http://item.gmarket.co.kr/Item?goodscode=21607...           19,900  "
      ]
     },
     "execution_count": 13,
     "metadata": {},
     "output_type": "execute_result"
    }
   ],
   "source": [
    "df[nodata_indexs].tail()"
   ]
  },
  {
   "cell_type": "code",
   "execution_count": 14,
   "id": "2d40f051",
   "metadata": {},
   "outputs": [],
   "source": [
    "df[\"o_price\"][nodata_indexs] = df[\"s_price\"][nodata_indexs]"
   ]
  },
  {
   "cell_type": "code",
   "execution_count": 15,
   "id": "ca439a30",
   "metadata": {},
   "outputs": [
    {
     "data": {
      "text/html": [
       "<div>\n",
       "<style scoped>\n",
       "    .dataframe tbody tr th:only-of-type {\n",
       "        vertical-align: middle;\n",
       "    }\n",
       "\n",
       "    .dataframe tbody tr th {\n",
       "        vertical-align: top;\n",
       "    }\n",
       "\n",
       "    .dataframe thead th {\n",
       "        text-align: right;\n",
       "    }\n",
       "</style>\n",
       "<table border=\"1\" class=\"dataframe\">\n",
       "  <thead>\n",
       "    <tr style=\"text-align: right;\">\n",
       "      <th></th>\n",
       "      <th>title</th>\n",
       "      <th>link</th>\n",
       "      <th>o_price</th>\n",
       "      <th>s_price</th>\n",
       "    </tr>\n",
       "  </thead>\n",
       "  <tbody>\n",
       "    <tr>\n",
       "      <th>184</th>\n",
       "      <td>윤쌀 10kg+10kg 쌀 20년산 (박스 포장)</td>\n",
       "      <td>http://item.gmarket.co.kr/Item?goodscode=18505...</td>\n",
       "      <td>56,500</td>\n",
       "      <td>56,500</td>\n",
       "    </tr>\n",
       "    <tr>\n",
       "      <th>188</th>\n",
       "      <td>(전단상품)온가족닭볶음탕용 1.2kg 팩</td>\n",
       "      <td>http://item.gmarket.co.kr/Item?goodscode=20446...</td>\n",
       "      <td>5,990</td>\n",
       "      <td>5,990</td>\n",
       "    </tr>\n",
       "    <tr>\n",
       "      <th>190</th>\n",
       "      <td>비비고 만두 총 10팩(왕교자X2+김치왕교자X2+매운왕교자X2+고기만두X2+김치만</td>\n",
       "      <td>http://item.gmarket.co.kr/Item?goodscode=21251...</td>\n",
       "      <td>30,900</td>\n",
       "      <td>30,900</td>\n",
       "    </tr>\n",
       "    <tr>\n",
       "      <th>191</th>\n",
       "      <td>[삼성전자]7%할인 갤럭시버즈2+케이스+CU8천원+경품EVENT</td>\n",
       "      <td>http://item.gmarket.co.kr/Item?goodscode=21898...</td>\n",
       "      <td>149,000</td>\n",
       "      <td>149,000</td>\n",
       "    </tr>\n",
       "    <tr>\n",
       "      <th>194</th>\n",
       "      <td>향긋한 여름 털복숭아 4.5kg/20과내외</td>\n",
       "      <td>http://item.gmarket.co.kr/Item?goodscode=21607...</td>\n",
       "      <td>19,900</td>\n",
       "      <td>19,900</td>\n",
       "    </tr>\n",
       "  </tbody>\n",
       "</table>\n",
       "</div>"
      ],
      "text/plain": [
       "                                             title  \\\n",
       "184                    윤쌀 10kg+10kg 쌀 20년산 (박스 포장)   \n",
       "188                         (전단상품)온가족닭볶음탕용 1.2kg 팩   \n",
       "190  비비고 만두 총 10팩(왕교자X2+김치왕교자X2+매운왕교자X2+고기만두X2+김치만   \n",
       "191            [삼성전자]7%할인 갤럭시버즈2+케이스+CU8천원+경품EVENT   \n",
       "194                        향긋한 여름 털복숭아 4.5kg/20과내외   \n",
       "\n",
       "                                                  link  o_price  s_price  \n",
       "184  http://item.gmarket.co.kr/Item?goodscode=18505...   56,500   56,500  \n",
       "188  http://item.gmarket.co.kr/Item?goodscode=20446...    5,990    5,990  \n",
       "190  http://item.gmarket.co.kr/Item?goodscode=21251...   30,900   30,900  \n",
       "191  http://item.gmarket.co.kr/Item?goodscode=21898...  149,000  149,000  \n",
       "194  http://item.gmarket.co.kr/Item?goodscode=21607...   19,900   19,900  "
      ]
     },
     "execution_count": 15,
     "metadata": {},
     "output_type": "execute_result"
    }
   ],
   "source": [
    "df.loc[nodata_indexs].tail()"
   ]
  },
  {
   "cell_type": "code",
   "execution_count": 16,
   "id": "cd159f76",
   "metadata": {
    "scrolled": true
   },
   "outputs": [
    {
     "data": {
      "text/html": [
       "<div>\n",
       "<style scoped>\n",
       "    .dataframe tbody tr th:only-of-type {\n",
       "        vertical-align: middle;\n",
       "    }\n",
       "\n",
       "    .dataframe tbody tr th {\n",
       "        vertical-align: top;\n",
       "    }\n",
       "\n",
       "    .dataframe thead th {\n",
       "        text-align: right;\n",
       "    }\n",
       "</style>\n",
       "<table border=\"1\" class=\"dataframe\">\n",
       "  <thead>\n",
       "    <tr style=\"text-align: right;\">\n",
       "      <th></th>\n",
       "      <th>title</th>\n",
       "      <th>link</th>\n",
       "      <th>o_price</th>\n",
       "      <th>s_price</th>\n",
       "    </tr>\n",
       "  </thead>\n",
       "  <tbody>\n",
       "    <tr>\n",
       "      <th>195</th>\n",
       "      <td>[베베앙]베베앙 아기물티슈 시그니처 대용량 100매 캡형 10팩</td>\n",
       "      <td>http://item.gmarket.co.kr/Item?goodscode=16044...</td>\n",
       "      <td>23,800</td>\n",
       "      <td>11,900</td>\n",
       "    </tr>\n",
       "    <tr>\n",
       "      <th>196</th>\n",
       "      <td>[페리오]어린이칫솔 쿠폰가13530원 2단계핑크퐁칫솔20입+사은품</td>\n",
       "      <td>http://item.gmarket.co.kr/Item?goodscode=17038...</td>\n",
       "      <td>20,100</td>\n",
       "      <td>17,900</td>\n",
       "    </tr>\n",
       "    <tr>\n",
       "      <th>197</th>\n",
       "      <td>수퍼맘스토리카페/재밌고 기억하기 쉽게 가르쳐주는/미국초등수학교과서/맥그로힐/McGr...</td>\n",
       "      <td>http://item.gmarket.co.kr/Item?goodscode=21923...</td>\n",
       "      <td>68,000</td>\n",
       "      <td>48,800</td>\n",
       "    </tr>\n",
       "    <tr>\n",
       "      <th>198</th>\n",
       "      <td>[구글플레이](카드가능) 기프트코드 20만원 / 구글 기프트카드</td>\n",
       "      <td>http://item.gmarket.co.kr/Item?goodscode=16552...</td>\n",
       "      <td>200,000</td>\n",
       "      <td>190,000</td>\n",
       "    </tr>\n",
       "    <tr>\n",
       "      <th>199</th>\n",
       "      <td>[매일유업]매일두유 99.9 190ml 48팩</td>\n",
       "      <td>http://item.gmarket.co.kr/Item?goodscode=15900...</td>\n",
       "      <td>28,900</td>\n",
       "      <td>22,500</td>\n",
       "    </tr>\n",
       "  </tbody>\n",
       "</table>\n",
       "</div>"
      ],
      "text/plain": [
       "                                                 title  \\\n",
       "195                [베베앙]베베앙 아기물티슈 시그니처 대용량 100매 캡형 10팩   \n",
       "196               [페리오]어린이칫솔 쿠폰가13530원 2단계핑크퐁칫솔20입+사은품   \n",
       "197  수퍼맘스토리카페/재밌고 기억하기 쉽게 가르쳐주는/미국초등수학교과서/맥그로힐/McGr...   \n",
       "198                [구글플레이](카드가능) 기프트코드 20만원 / 구글 기프트카드   \n",
       "199                          [매일유업]매일두유 99.9 190ml 48팩   \n",
       "\n",
       "                                                  link  o_price  s_price  \n",
       "195  http://item.gmarket.co.kr/Item?goodscode=16044...   23,800   11,900  \n",
       "196  http://item.gmarket.co.kr/Item?goodscode=17038...   20,100   17,900  \n",
       "197  http://item.gmarket.co.kr/Item?goodscode=21923...   68,000   48,800  \n",
       "198  http://item.gmarket.co.kr/Item?goodscode=16552...  200,000  190,000  \n",
       "199  http://item.gmarket.co.kr/Item?goodscode=15900...   28,900   22,500  "
      ]
     },
     "execution_count": 16,
     "metadata": {},
     "output_type": "execute_result"
    }
   ],
   "source": [
    "df.tail()"
   ]
  },
  {
   "cell_type": "code",
   "execution_count": 18,
   "id": "0d4cf4e3",
   "metadata": {},
   "outputs": [],
   "source": [
    "df[\"o_price\"] = df[\"o_price\"].apply(\n",
    " lambda price: price.replace(\",\", \"\")).astype(\"int\")"
   ]
  },
  {
   "cell_type": "code",
   "execution_count": 19,
   "id": "59fa099c",
   "metadata": {},
   "outputs": [],
   "source": [
    "df[\"s_price\"] = df[\"s_price\"].apply(\n",
    " lambda price: price.replace(\",\", \"\")).astype(\"int\")"
   ]
  },
  {
   "cell_type": "code",
   "execution_count": 20,
   "id": "df0dcf6e",
   "metadata": {},
   "outputs": [],
   "source": [
    "df[\"sale_rate\"] = round((1 - df[\"s_price\"] / df[\"o_price\"]) * 100, 2)"
   ]
  },
  {
   "cell_type": "code",
   "execution_count": 21,
   "id": "82e9b639",
   "metadata": {},
   "outputs": [
    {
     "data": {
      "text/html": [
       "<div>\n",
       "<style scoped>\n",
       "    .dataframe tbody tr th:only-of-type {\n",
       "        vertical-align: middle;\n",
       "    }\n",
       "\n",
       "    .dataframe tbody tr th {\n",
       "        vertical-align: top;\n",
       "    }\n",
       "\n",
       "    .dataframe thead th {\n",
       "        text-align: right;\n",
       "    }\n",
       "</style>\n",
       "<table border=\"1\" class=\"dataframe\">\n",
       "  <thead>\n",
       "    <tr style=\"text-align: right;\">\n",
       "      <th></th>\n",
       "      <th>title</th>\n",
       "      <th>link</th>\n",
       "      <th>o_price</th>\n",
       "      <th>s_price</th>\n",
       "      <th>sale_rate</th>\n",
       "    </tr>\n",
       "  </thead>\n",
       "  <tbody>\n",
       "    <tr>\n",
       "      <th>195</th>\n",
       "      <td>[베베앙]베베앙 아기물티슈 시그니처 대용량 100매 캡형 10팩</td>\n",
       "      <td>http://item.gmarket.co.kr/Item?goodscode=16044...</td>\n",
       "      <td>23800</td>\n",
       "      <td>11900</td>\n",
       "      <td>50.00</td>\n",
       "    </tr>\n",
       "    <tr>\n",
       "      <th>196</th>\n",
       "      <td>[페리오]어린이칫솔 쿠폰가13530원 2단계핑크퐁칫솔20입+사은품</td>\n",
       "      <td>http://item.gmarket.co.kr/Item?goodscode=17038...</td>\n",
       "      <td>20100</td>\n",
       "      <td>17900</td>\n",
       "      <td>10.95</td>\n",
       "    </tr>\n",
       "    <tr>\n",
       "      <th>197</th>\n",
       "      <td>수퍼맘스토리카페/재밌고 기억하기 쉽게 가르쳐주는/미국초등수학교과서/맥그로힐/McGr...</td>\n",
       "      <td>http://item.gmarket.co.kr/Item?goodscode=21923...</td>\n",
       "      <td>68000</td>\n",
       "      <td>48800</td>\n",
       "      <td>28.24</td>\n",
       "    </tr>\n",
       "    <tr>\n",
       "      <th>198</th>\n",
       "      <td>[구글플레이](카드가능) 기프트코드 20만원 / 구글 기프트카드</td>\n",
       "      <td>http://item.gmarket.co.kr/Item?goodscode=16552...</td>\n",
       "      <td>200000</td>\n",
       "      <td>190000</td>\n",
       "      <td>5.00</td>\n",
       "    </tr>\n",
       "    <tr>\n",
       "      <th>199</th>\n",
       "      <td>[매일유업]매일두유 99.9 190ml 48팩</td>\n",
       "      <td>http://item.gmarket.co.kr/Item?goodscode=15900...</td>\n",
       "      <td>28900</td>\n",
       "      <td>22500</td>\n",
       "      <td>22.15</td>\n",
       "    </tr>\n",
       "  </tbody>\n",
       "</table>\n",
       "</div>"
      ],
      "text/plain": [
       "                                                 title  \\\n",
       "195                [베베앙]베베앙 아기물티슈 시그니처 대용량 100매 캡형 10팩   \n",
       "196               [페리오]어린이칫솔 쿠폰가13530원 2단계핑크퐁칫솔20입+사은품   \n",
       "197  수퍼맘스토리카페/재밌고 기억하기 쉽게 가르쳐주는/미국초등수학교과서/맥그로힐/McGr...   \n",
       "198                [구글플레이](카드가능) 기프트코드 20만원 / 구글 기프트카드   \n",
       "199                          [매일유업]매일두유 99.9 190ml 48팩   \n",
       "\n",
       "                                                  link  o_price  s_price  \\\n",
       "195  http://item.gmarket.co.kr/Item?goodscode=16044...    23800    11900   \n",
       "196  http://item.gmarket.co.kr/Item?goodscode=17038...    20100    17900   \n",
       "197  http://item.gmarket.co.kr/Item?goodscode=21923...    68000    48800   \n",
       "198  http://item.gmarket.co.kr/Item?goodscode=16552...   200000   190000   \n",
       "199  http://item.gmarket.co.kr/Item?goodscode=15900...    28900    22500   \n",
       "\n",
       "     sale_rate  \n",
       "195      50.00  \n",
       "196      10.95  \n",
       "197      28.24  \n",
       "198       5.00  \n",
       "199      22.15  "
      ]
     },
     "execution_count": 21,
     "metadata": {},
     "output_type": "execute_result"
    }
   ],
   "source": [
    "df.tail()"
   ]
  },
  {
   "cell_type": "code",
   "execution_count": 22,
   "id": "16207044",
   "metadata": {},
   "outputs": [
    {
     "data": {
      "text/html": [
       "<div>\n",
       "<style scoped>\n",
       "    .dataframe tbody tr th:only-of-type {\n",
       "        vertical-align: middle;\n",
       "    }\n",
       "\n",
       "    .dataframe tbody tr th {\n",
       "        vertical-align: top;\n",
       "    }\n",
       "\n",
       "    .dataframe thead th {\n",
       "        text-align: right;\n",
       "    }\n",
       "</style>\n",
       "<table border=\"1\" class=\"dataframe\">\n",
       "  <thead>\n",
       "    <tr style=\"text-align: right;\">\n",
       "      <th></th>\n",
       "      <th>title</th>\n",
       "      <th>link</th>\n",
       "      <th>o_price</th>\n",
       "      <th>s_price</th>\n",
       "      <th>sale_rate</th>\n",
       "    </tr>\n",
       "  </thead>\n",
       "  <tbody>\n",
       "    <tr>\n",
       "      <th>0</th>\n",
       "      <td>엄마옷로즈맘 시즌오프세일 인견5060중년여성의류</td>\n",
       "      <td>http://item.gmarket.co.kr/Item?goodscode=77658...</td>\n",
       "      <td>43000</td>\n",
       "      <td>12900</td>\n",
       "      <td>70.0</td>\n",
       "    </tr>\n",
       "    <tr>\n",
       "      <th>1</th>\n",
       "      <td>[엄지한복]20%+15% 엄지한복 남아/여아 균일가+복주머니 증정</td>\n",
       "      <td>http://item.gmarket.co.kr/Item?goodscode=16013...</td>\n",
       "      <td>130000</td>\n",
       "      <td>39000</td>\n",
       "      <td>70.0</td>\n",
       "    </tr>\n",
       "    <tr>\n",
       "      <th>2</th>\n",
       "      <td>[벨레다]벨레다공식총판 벨레다 어린이치약 50ml 6개 +증정품</td>\n",
       "      <td>http://item.gmarket.co.kr/Item?goodscode=19039...</td>\n",
       "      <td>143330</td>\n",
       "      <td>43000</td>\n",
       "      <td>70.0</td>\n",
       "    </tr>\n",
       "    <tr>\n",
       "      <th>3</th>\n",
       "      <td>데이데이 가을블라우스/맨투맨/팬츠/니트/가디건/팬츠</td>\n",
       "      <td>http://item.gmarket.co.kr/Item?goodscode=15706...</td>\n",
       "      <td>33000</td>\n",
       "      <td>9900</td>\n",
       "      <td>70.0</td>\n",
       "    </tr>\n",
       "    <tr>\n",
       "      <th>4</th>\n",
       "      <td>[캔디베이비]70%할인 시즌오프 유아동내의/내복/실내복</td>\n",
       "      <td>http://item.gmarket.co.kr/Item?goodscode=43858...</td>\n",
       "      <td>19000</td>\n",
       "      <td>5700</td>\n",
       "      <td>70.0</td>\n",
       "    </tr>\n",
       "  </tbody>\n",
       "</table>\n",
       "</div>"
      ],
      "text/plain": [
       "                                  title  \\\n",
       "0            엄마옷로즈맘 시즌오프세일 인견5060중년여성의류   \n",
       "1  [엄지한복]20%+15% 엄지한복 남아/여아 균일가+복주머니 증정   \n",
       "2   [벨레다]벨레다공식총판 벨레다 어린이치약 50ml 6개 +증정품   \n",
       "3          데이데이 가을블라우스/맨투맨/팬츠/니트/가디건/팬츠   \n",
       "4        [캔디베이비]70%할인 시즌오프 유아동내의/내복/실내복   \n",
       "\n",
       "                                                link  o_price  s_price  \\\n",
       "0  http://item.gmarket.co.kr/Item?goodscode=77658...    43000    12900   \n",
       "1  http://item.gmarket.co.kr/Item?goodscode=16013...   130000    39000   \n",
       "2  http://item.gmarket.co.kr/Item?goodscode=19039...   143330    43000   \n",
       "3  http://item.gmarket.co.kr/Item?goodscode=15706...    33000     9900   \n",
       "4  http://item.gmarket.co.kr/Item?goodscode=43858...    19000     5700   \n",
       "\n",
       "   sale_rate  \n",
       "0       70.0  \n",
       "1       70.0  \n",
       "2       70.0  \n",
       "3       70.0  \n",
       "4       70.0  "
      ]
     },
     "execution_count": 22,
     "metadata": {},
     "output_type": "execute_result"
    }
   ],
   "source": [
    "df[df[\"sale_rate\"] > 50].sort_values(\"sale_rate\", ascending=False).reset_index(drop=True).head()"
   ]
  },
  {
   "cell_type": "code",
   "execution_count": null,
   "id": "178ce575",
   "metadata": {},
   "outputs": [],
   "source": []
  }
 ],
 "metadata": {
  "kernelspec": {
   "display_name": "Python 3",
   "language": "python",
   "name": "python3"
  },
  "language_info": {
   "codemirror_mode": {
    "name": "ipython",
    "version": 3
   },
   "file_extension": ".py",
   "mimetype": "text/x-python",
   "name": "python",
   "nbconvert_exporter": "python",
   "pygments_lexer": "ipython3",
   "version": "3.8.8"
  }
 },
 "nbformat": 4,
 "nbformat_minor": 5
}
